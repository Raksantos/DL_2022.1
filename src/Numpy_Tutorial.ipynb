{
  "nbformat": 4,
  "nbformat_minor": 0,
  "metadata": {
    "colab": {
      "name": "Numpy Tutorial",
      "provenance": [],
      "collapsed_sections": []
    },
    "kernelspec": {
      "name": "python3",
      "display_name": "Python 3"
    },
    "language_info": {
      "name": "python"
    }
  },
  "cells": [
    {
      "cell_type": "code",
      "execution_count": null,
      "metadata": {
        "id": "NE0-KfX7q9en"
      },
      "outputs": [],
      "source": [
        "import numpy as np\n",
        "import pandas as pd\n",
        "import random\n",
        "import numpy.matlib\n",
        "import matplotlib.image as img\n",
        "import matplotlib.pyplot as plt"
      ]
    },
    {
      "cell_type": "markdown",
      "source": [
        "# 1 - Numpy Array"
      ],
      "metadata": {
        "id": "Yrh_t1ejrLzx"
      }
    },
    {
      "cell_type": "markdown",
      "source": [
        "## How to create an empty and a full NumPy array?"
      ],
      "metadata": {
        "id": "iQJyfwZPrRNT"
      }
    },
    {
      "cell_type": "code",
      "source": [
        "#Empty\n",
        "array_empty = np.empty((2, 3), dtype=float)\n",
        "array_empty"
      ],
      "metadata": {
        "colab": {
          "base_uri": "https://localhost:8080/"
        },
        "id": "1knfYiQJrT77",
        "outputId": "bc0d45d6-2b8e-414f-d33e-f5c2ecce76d5"
      },
      "execution_count": null,
      "outputs": [
        {
          "output_type": "execute_result",
          "data": {
            "text/plain": [
              "array([[2.01702577e-316, 0.00000000e+000, 0.00000000e+000],\n",
              "       [0.00000000e+000, 0.00000000e+000, 0.00000000e+000]])"
            ]
          },
          "metadata": {},
          "execution_count": 2
        }
      ]
    },
    {
      "cell_type": "code",
      "source": [
        "#Full\n",
        "array = np.full((2, 3), 13, dtype=int)\n",
        "array"
      ],
      "metadata": {
        "colab": {
          "base_uri": "https://localhost:8080/"
        },
        "id": "bCSYoBJKtWnD",
        "outputId": "a60a5bc6-56c3-4984-e11a-a104d4c1ddcb"
      },
      "execution_count": null,
      "outputs": [
        {
          "output_type": "execute_result",
          "data": {
            "text/plain": [
              "array([[13, 13, 13],\n",
              "       [13, 13, 13]])"
            ]
          },
          "metadata": {},
          "execution_count": 3
        }
      ]
    },
    {
      "cell_type": "markdown",
      "source": [
        "## Create a Numpy array filled with all zeros"
      ],
      "metadata": {
        "id": "2kq6aN0Krak-"
      }
    },
    {
      "cell_type": "code",
      "source": [
        "array_zeros = np.zeros((2, 3), dtype=int)\n",
        "array_zeros"
      ],
      "metadata": {
        "colab": {
          "base_uri": "https://localhost:8080/"
        },
        "id": "sT4lN3AqrgBQ",
        "outputId": "a3d949e4-3e5f-4b50-8fe0-19e32c201f5e"
      },
      "execution_count": null,
      "outputs": [
        {
          "output_type": "execute_result",
          "data": {
            "text/plain": [
              "array([[0, 0, 0],\n",
              "       [0, 0, 0]])"
            ]
          },
          "metadata": {},
          "execution_count": 4
        }
      ]
    },
    {
      "cell_type": "markdown",
      "source": [
        "## Create a Numpy array filled with all ones"
      ],
      "metadata": {
        "id": "GJPpuoKArghW"
      }
    },
    {
      "cell_type": "code",
      "source": [
        "array_ones = np.ones((2, 3), dtype=int)\n",
        "array_ones"
      ],
      "metadata": {
        "colab": {
          "base_uri": "https://localhost:8080/"
        },
        "id": "O8A-YoKWriV0",
        "outputId": "f88efb3c-c0e2-4166-e718-04adfe56a727"
      },
      "execution_count": null,
      "outputs": [
        {
          "output_type": "execute_result",
          "data": {
            "text/plain": [
              "array([[1, 1, 1],\n",
              "       [1, 1, 1]])"
            ]
          },
          "metadata": {},
          "execution_count": 5
        }
      ]
    },
    {
      "cell_type": "markdown",
      "source": [
        "## Check whether a Numpy array contains a specified row"
      ],
      "metadata": {
        "id": "d3RbUwyarjJ_"
      }
    },
    {
      "cell_type": "code",
      "source": [
        "arr = np.array([[1, 2, 3, 4, 5, 6], [7, 8, 9, 10, 11, 12], [13, 13, 13, 13, 13, 13]])\n",
        "print([12, 12, 12, 12, 12, 12] in arr.tolist())\n",
        "print([13, 13, 13, 13, 13, 13] in arr.tolist())"
      ],
      "metadata": {
        "colab": {
          "base_uri": "https://localhost:8080/"
        },
        "id": "s9SJp1p_rkzv",
        "outputId": "69aa8562-f895-49da-b2f8-1013c4cf6fbe"
      },
      "execution_count": null,
      "outputs": [
        {
          "output_type": "stream",
          "name": "stdout",
          "text": [
            "False\n",
            "True\n"
          ]
        }
      ]
    },
    {
      "cell_type": "markdown",
      "source": [
        "## How to Remove rows in Numpy array that contains non-numeric values?"
      ],
      "metadata": {
        "id": "sukl4BxNrlSl"
      }
    },
    {
      "cell_type": "code",
      "source": [
        "array_nan = np.array([[1, 1, 1], [2, np.nan, np.nan]])\n",
        "array_nan[~np.isnan(array_nan).any(axis=1)]"
      ],
      "metadata": {
        "colab": {
          "base_uri": "https://localhost:8080/"
        },
        "id": "DedfvGI0rpB2",
        "outputId": "af4c61b5-3c29-48ef-e477-ee842fb4dc5d"
      },
      "execution_count": null,
      "outputs": [
        {
          "output_type": "execute_result",
          "data": {
            "text/plain": [
              "array([[1., 1., 1.]])"
            ]
          },
          "metadata": {},
          "execution_count": 7
        }
      ]
    },
    {
      "cell_type": "markdown",
      "source": [
        "## Remove single-dimensional entries from the shape of an array"
      ],
      "metadata": {
        "id": "rs8j5Lf2rlXm"
      }
    },
    {
      "cell_type": "code",
      "source": [
        "regular_array = np.array([[[1, 1, 1], [2, 2, 2]]])\n",
        "print(regular_array.shape)\n",
        "out_array = regular_array.squeeze() #usually is used to remove single-dimensions from arrays\n",
        "print(out_array.shape)"
      ],
      "metadata": {
        "colab": {
          "base_uri": "https://localhost:8080/"
        },
        "id": "gqHpKvhWrrAy",
        "outputId": "1969311d-3c7f-447f-9b3f-facd44f26679"
      },
      "execution_count": null,
      "outputs": [
        {
          "output_type": "stream",
          "name": "stdout",
          "text": [
            "(1, 2, 3)\n",
            "(2, 3)\n"
          ]
        }
      ]
    },
    {
      "cell_type": "markdown",
      "source": [
        "## Find the number of occurrences of a sequence in a NumPy array"
      ],
      "metadata": {
        "id": "vuaq0l2IrrqF"
      }
    },
    {
      "cell_type": "code",
      "source": [
        "sequence_array = np.array([[2, 8, 9, 4], \n",
        "                   [9, 4, 9, 4],\n",
        "                   [4, 5, 9, 7],\n",
        "                   [2, 9, 4, 3]])\n",
        "print(repr(sequence_array).count(\"9, 4\"))"
      ],
      "metadata": {
        "colab": {
          "base_uri": "https://localhost:8080/"
        },
        "id": "OWOxDkoIrtCj",
        "outputId": "5cd4c32d-5b77-48f1-924a-b645c9f6209f"
      },
      "execution_count": null,
      "outputs": [
        {
          "output_type": "stream",
          "name": "stdout",
          "text": [
            "4\n"
          ]
        }
      ]
    },
    {
      "cell_type": "markdown",
      "source": [
        "## Find the most frequent value in a NumPy array"
      ],
      "metadata": {
        "id": "-St8QFZcrtmp"
      }
    },
    {
      "cell_type": "code",
      "source": [
        "most_array = np.array([1,2,3,4,5,1,2,1,1,1])\n",
        "np.bincount(most_array).argmax()"
      ],
      "metadata": {
        "colab": {
          "base_uri": "https://localhost:8080/"
        },
        "id": "_xcB35kVrvgm",
        "outputId": "330a35ac-7110-4ae3-aa48-d95cf0be5ea2"
      },
      "execution_count": null,
      "outputs": [
        {
          "output_type": "execute_result",
          "data": {
            "text/plain": [
              "1"
            ]
          },
          "metadata": {},
          "execution_count": 10
        }
      ]
    },
    {
      "cell_type": "markdown",
      "source": [
        "## Combining a one and a two-dimensional NumPy Array"
      ],
      "metadata": {
        "id": "Rrh0wJl2rv80"
      }
    },
    {
      "cell_type": "code",
      "source": [
        "num_1d = np.array([1, 1, 1, 1, 1])\n",
        "  \n",
        "num_2d = np.array([[2, 2, 2, 2, 2], [3, 3, 3, 3, 3]])\n",
        "\n",
        "for a, b in np.nditer([num_1d, num_2d]):\n",
        "    print(\"%d:%d\" % (a, b),)"
      ],
      "metadata": {
        "colab": {
          "base_uri": "https://localhost:8080/"
        },
        "id": "OTAWN7IlrxYx",
        "outputId": "1427e8d7-fab5-4b63-d088-8f17d3b21c1e"
      },
      "execution_count": null,
      "outputs": [
        {
          "output_type": "stream",
          "name": "stdout",
          "text": [
            "1:2\n",
            "1:2\n",
            "1:2\n",
            "1:2\n",
            "1:2\n",
            "1:3\n",
            "1:3\n",
            "1:3\n",
            "1:3\n",
            "1:3\n"
          ]
        }
      ]
    },
    {
      "cell_type": "markdown",
      "source": [
        "## How to build an array of all combinations of two NumPy arrays?"
      ],
      "metadata": {
        "id": "jBx1okw3rxwV"
      }
    },
    {
      "cell_type": "code",
      "source": [
        "array_1 = np.array([2, 4])\n",
        "array_2 = np.array([3, 6])\n",
        "\n",
        "combined_array = np.array(np.meshgrid(array_1, array_2)).T.reshape(-1, 2)\n",
        "combined_array"
      ],
      "metadata": {
        "id": "zTGW1nZNry4_",
        "colab": {
          "base_uri": "https://localhost:8080/"
        },
        "outputId": "9cc46338-6ca6-42bf-82cd-0fd23d819b7c"
      },
      "execution_count": null,
      "outputs": [
        {
          "output_type": "execute_result",
          "data": {
            "text/plain": [
              "array([[2, 3],\n",
              "       [2, 6],\n",
              "       [4, 3],\n",
              "       [4, 6]])"
            ]
          },
          "metadata": {},
          "execution_count": 12
        }
      ]
    },
    {
      "cell_type": "markdown",
      "source": [
        "## How to add a border around a NumPy array?"
      ],
      "metadata": {
        "id": "KHlSxr6erzax"
      }
    },
    {
      "cell_type": "code",
      "source": [
        "array_ones = np.ones((3, 3), dtype='int')\n",
        "bordered_array = np.pad(array_ones, pad_width=1, mode='constant', constant_values=0)\n",
        "bordered_array"
      ],
      "metadata": {
        "id": "Fbtr4na8r00_",
        "colab": {
          "base_uri": "https://localhost:8080/"
        },
        "outputId": "06d50fd1-1e0b-4b99-dcca-3e246d66b420"
      },
      "execution_count": null,
      "outputs": [
        {
          "output_type": "execute_result",
          "data": {
            "text/plain": [
              "array([[0, 0, 0, 0, 0],\n",
              "       [0, 1, 1, 1, 0],\n",
              "       [0, 1, 1, 1, 0],\n",
              "       [0, 1, 1, 1, 0],\n",
              "       [0, 0, 0, 0, 0]])"
            ]
          },
          "metadata": {},
          "execution_count": 13
        }
      ]
    },
    {
      "cell_type": "markdown",
      "source": [
        "## How to compare two NumPy arrays?"
      ],
      "metadata": {
        "id": "GC_D5C6pr1aJ"
      }
    },
    {
      "cell_type": "code",
      "source": [
        "an_array = np.array([[1, 2], [3, 4]])\n",
        "another_array = np.array([[1, 2], [3, 4]])\n",
        "\n",
        "print((an_array == another_array).all())\n",
        "\n",
        "#OR\n",
        "\n",
        "if np.array_equal(an_array, another_array):\n",
        "    print(True)\n",
        "else:\n",
        "    print(False)"
      ],
      "metadata": {
        "id": "2r1T6Iuqr28G",
        "colab": {
          "base_uri": "https://localhost:8080/"
        },
        "outputId": "86a2e000-f8fd-42fb-cf18-6d6abaa89b4e"
      },
      "execution_count": null,
      "outputs": [
        {
          "output_type": "stream",
          "name": "stdout",
          "text": [
            "True\n",
            "True\n"
          ]
        }
      ]
    },
    {
      "cell_type": "markdown",
      "source": [
        "## How to check whether specified values are present in NumPy array?"
      ],
      "metadata": {
        "id": "ikjI8nJsr3Zg"
      }
    },
    {
      "cell_type": "code",
      "source": [
        "any_array = np.array([1, 2, 3, 4, 5, 6])\n",
        "print(2 in any_array)\n",
        "print(8 in any_array)"
      ],
      "metadata": {
        "id": "3z9GvJ5pr4nd",
        "colab": {
          "base_uri": "https://localhost:8080/"
        },
        "outputId": "8b710c2e-f543-47f8-cb2b-5667a85516be"
      },
      "execution_count": null,
      "outputs": [
        {
          "output_type": "stream",
          "name": "stdout",
          "text": [
            "True\n",
            "False\n"
          ]
        }
      ]
    },
    {
      "cell_type": "markdown",
      "source": [
        "## How to get all 2D diagonals of a 3D NumPy array?"
      ],
      "metadata": {
        "id": "gZHiWPhbr45y"
      }
    },
    {
      "cell_type": "code",
      "source": [
        "arr = np.arange(3 * 4 * 4).reshape(3, 4, 4)\n",
        "\n",
        "print(arr)\n",
        "\n",
        "diag_arr = np.diagonal(arr, axis1 = 1, axis2 = 2)\n",
        "print(\"\\n\\nDiagonal:\\n\", diag_arr)"
      ],
      "metadata": {
        "id": "h3Zp6Q4Rr54T",
        "colab": {
          "base_uri": "https://localhost:8080/"
        },
        "outputId": "bc025e31-1b9d-49bb-a66c-dfed5a1b4cc0"
      },
      "execution_count": null,
      "outputs": [
        {
          "output_type": "stream",
          "name": "stdout",
          "text": [
            "[[[ 0  1  2  3]\n",
            "  [ 4  5  6  7]\n",
            "  [ 8  9 10 11]\n",
            "  [12 13 14 15]]\n",
            "\n",
            " [[16 17 18 19]\n",
            "  [20 21 22 23]\n",
            "  [24 25 26 27]\n",
            "  [28 29 30 31]]\n",
            "\n",
            " [[32 33 34 35]\n",
            "  [36 37 38 39]\n",
            "  [40 41 42 43]\n",
            "  [44 45 46 47]]]\n",
            "\n",
            "\n",
            "Diagonal:\n",
            " [[ 0  5 10 15]\n",
            " [16 21 26 31]\n",
            " [32 37 42 47]]\n"
          ]
        }
      ]
    },
    {
      "cell_type": "markdown",
      "source": [
        "## Flatten a Matrix in Python using NumPy"
      ],
      "metadata": {
        "id": "NkdQlYApr6OW"
      }
    },
    {
      "cell_type": "code",
      "source": [
        "array = np.array([[2, 4], [5, 7]])\n",
        "array.flatten()"
      ],
      "metadata": {
        "id": "iL-kHeger7cP",
        "colab": {
          "base_uri": "https://localhost:8080/"
        },
        "outputId": "0a59b989-1c13-4824-b429-3104b23c0fa2"
      },
      "execution_count": null,
      "outputs": [
        {
          "output_type": "execute_result",
          "data": {
            "text/plain": [
              "array([2, 4, 5, 7])"
            ]
          },
          "metadata": {},
          "execution_count": 17
        }
      ]
    },
    {
      "cell_type": "markdown",
      "source": [
        "## Flatten a 2d numpy array into 1d array"
      ],
      "metadata": {
        "id": "RgFNVDmWr7zK"
      }
    },
    {
      "cell_type": "code",
      "source": [
        "ini_array1 = np.array([[1, 2, 3], [2, 4, 5], [1, 2, 3]])\n",
        "ini_array1.flatten()"
      ],
      "metadata": {
        "id": "rbfZDxq3r81Z",
        "colab": {
          "base_uri": "https://localhost:8080/"
        },
        "outputId": "7a065526-9b30-4829-dbe0-b2283d08f245"
      },
      "execution_count": null,
      "outputs": [
        {
          "output_type": "execute_result",
          "data": {
            "text/plain": [
              "array([1, 2, 3, 2, 4, 5, 1, 2, 3])"
            ]
          },
          "metadata": {},
          "execution_count": 18
        }
      ]
    },
    {
      "cell_type": "markdown",
      "source": [
        "## Move axes of an array to new positions"
      ],
      "metadata": {
        "id": "3WMHv4bsr9KY"
      }
    },
    {
      "cell_type": "code",
      "source": [
        "\"\"\"Function used to move the axis into different positions. The 4 (-1 position) goes to the first (0 position)\"\"\"\n",
        "\n",
        "arr = np.ones((1, 2, 3, 4), dtype='int')\n",
        "\n",
        "print(\"Array initial:\\n\", arr)\n",
        "\n",
        "gfg = np.moveaxis(arr, 0, -1).shape\n",
        "\n",
        "print(\"\\nAfter moveaxis:\\n\", np.moveaxis(arr, 0, -1))\n",
        "\n",
        "gfg"
      ],
      "metadata": {
        "id": "dghzHx8Nr-Xq",
        "colab": {
          "base_uri": "https://localhost:8080/"
        },
        "outputId": "c21590a2-06ba-4249-de91-7b8b562160ae"
      },
      "execution_count": null,
      "outputs": [
        {
          "output_type": "stream",
          "name": "stdout",
          "text": [
            "Array initial:\n",
            " [[[[1 1 1 1]\n",
            "   [1 1 1 1]\n",
            "   [1 1 1 1]]\n",
            "\n",
            "  [[1 1 1 1]\n",
            "   [1 1 1 1]\n",
            "   [1 1 1 1]]]]\n",
            "\n",
            "After moveaxis:\n",
            " [[[[1]\n",
            "   [1]\n",
            "   [1]\n",
            "   [1]]\n",
            "\n",
            "  [[1]\n",
            "   [1]\n",
            "   [1]\n",
            "   [1]]\n",
            "\n",
            "  [[1]\n",
            "   [1]\n",
            "   [1]\n",
            "   [1]]]\n",
            "\n",
            "\n",
            " [[[1]\n",
            "   [1]\n",
            "   [1]\n",
            "   [1]]\n",
            "\n",
            "  [[1]\n",
            "   [1]\n",
            "   [1]\n",
            "   [1]]\n",
            "\n",
            "  [[1]\n",
            "   [1]\n",
            "   [1]\n",
            "   [1]]]]\n"
          ]
        },
        {
          "output_type": "execute_result",
          "data": {
            "text/plain": [
              "(2, 3, 4, 1)"
            ]
          },
          "metadata": {},
          "execution_count": 19
        }
      ]
    },
    {
      "cell_type": "markdown",
      "source": [
        "## Interchange two axes of an array"
      ],
      "metadata": {
        "id": "23iQNEEPr-uv"
      }
    },
    {
      "cell_type": "code",
      "source": [
        "arr = np.array([[2, 4, 6]])\n",
        "\n",
        "print(arr)\n",
        "\n",
        "gfg = np.swapaxes(arr, 0, 1)\n",
        "  \n",
        "print (gfg)"
      ],
      "metadata": {
        "id": "Cr9YPmyEsAph",
        "colab": {
          "base_uri": "https://localhost:8080/"
        },
        "outputId": "41039a4a-71e4-4533-fc6f-5c234290e0db"
      },
      "execution_count": null,
      "outputs": [
        {
          "output_type": "stream",
          "name": "stdout",
          "text": [
            "[[2 4 6]]\n",
            "[[2]\n",
            " [4]\n",
            " [6]]\n"
          ]
        }
      ]
    },
    {
      "cell_type": "markdown",
      "source": [
        "##NumPy – Fibonacci Series using Binet Formula\n"
      ],
      "metadata": {
        "id": "TBt2nqpwsBAO"
      }
    },
    {
      "cell_type": "markdown",
      "source": [
        "![Screenshot from 2022-08-15 10-01-49.png](data:image/png;base64,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)"
      ],
      "metadata": {
        "id": "rmwteWTumLuu"
      }
    },
    {
      "cell_type": "code",
      "source": [
        "array = np.arange(1, 11)\n",
        "\n",
        "alpha = (1 + np.sqrt(5)) / 2\n",
        "beta = (1 - np.sqrt(5)) / 2\n",
        "\n",
        "# np.rint is used for rounding off to integer\n",
        "Fibonacci = np.rint(((alpha ** array) - (beta ** array)) / np.sqrt(5))\n",
        "\n",
        "print(np.insert( Fibonacci, 0, 0))"
      ],
      "metadata": {
        "id": "kco73JNKsCH-",
        "colab": {
          "base_uri": "https://localhost:8080/"
        },
        "outputId": "77d3a330-4e9e-42b1-9ade-e76a17a62a4c"
      },
      "execution_count": null,
      "outputs": [
        {
          "output_type": "stream",
          "name": "stdout",
          "text": [
            "[ 0.  1.  1.  2.  3.  5.  8. 13. 21. 34. 55.]\n"
          ]
        }
      ]
    },
    {
      "cell_type": "markdown",
      "source": [
        "## Counts the number of non-zero values in the array\n"
      ],
      "metadata": {
        "id": "7cwS_-1hsCjU"
      }
    },
    {
      "cell_type": "code",
      "source": [
        "array = np.array([0, 1, 2, 3, 4, 0])\n",
        "# len(array) - repr(array).count(\"0\")\n",
        "\n",
        "#OR\n",
        "\n",
        "np.count_nonzero(array)"
      ],
      "metadata": {
        "id": "YKi9PXnmsD3z",
        "colab": {
          "base_uri": "https://localhost:8080/"
        },
        "outputId": "d40a9eb8-f8d8-4faf-c727-8ab47dd248b9"
      },
      "execution_count": null,
      "outputs": [
        {
          "output_type": "execute_result",
          "data": {
            "text/plain": [
              "4"
            ]
          },
          "metadata": {},
          "execution_count": 22
        }
      ]
    },
    {
      "cell_type": "markdown",
      "source": [
        "## Count the number of elements along a given axis"
      ],
      "metadata": {
        "id": "nckUWIRksEPy"
      }
    },
    {
      "cell_type": "code",
      "source": [
        "arr = np.array([[[1, 2, 3, 4], [5, 6, 7, 8]], [[1, 2, 3, 4], [5, 6, 7, 8]]])\n",
        " \n",
        "print(np.size(arr))"
      ],
      "metadata": {
        "id": "10sVpjnmsFeV",
        "colab": {
          "base_uri": "https://localhost:8080/"
        },
        "outputId": "c6ee8cc5-62ed-4884-9cd9-5a2dd3ab2fd3"
      },
      "execution_count": null,
      "outputs": [
        {
          "output_type": "stream",
          "name": "stdout",
          "text": [
            "16\n"
          ]
        }
      ]
    },
    {
      "cell_type": "markdown",
      "source": [
        "## Trim the leading and/or trailing zeros from a 1-D array"
      ],
      "metadata": {
        "id": "c4HD2x21sFxX"
      }
    },
    {
      "cell_type": "code",
      "source": [
        "#Obs:  trim_zeros has parameter trim that by default is set as 'fb' (front and back)\n",
        "array = np.array((0, 0, 0, 0, 1, 5, 7, 0, 6, 2, 9, 0, 10, 0, 0))\n",
        "np.trim_zeros(array)"
      ],
      "metadata": {
        "id": "pZkTipY4sHHP",
        "colab": {
          "base_uri": "https://localhost:8080/"
        },
        "outputId": "2d8b7810-0ab6-43b4-82f9-9298e8da8298"
      },
      "execution_count": null,
      "outputs": [
        {
          "output_type": "execute_result",
          "data": {
            "text/plain": [
              "array([ 1,  5,  7,  0,  6,  2,  9,  0, 10])"
            ]
          },
          "metadata": {},
          "execution_count": 24
        }
      ]
    },
    {
      "cell_type": "markdown",
      "source": [
        "## Change data type of given numpy array"
      ],
      "metadata": {
        "id": "GGkTc5DwsHk0"
      }
    },
    {
      "cell_type": "code",
      "source": [
        "array = np.arange(1, 10)\n",
        "print(array.dtype)\n",
        "\n",
        "array = array.astype('float64')\n",
        "print(array)\n",
        "print(array.dtype)"
      ],
      "metadata": {
        "id": "jCvikIDbsIwl",
        "colab": {
          "base_uri": "https://localhost:8080/"
        },
        "outputId": "ea1ce77d-0825-4194-c7b3-2ef36c1f4b44"
      },
      "execution_count": null,
      "outputs": [
        {
          "output_type": "stream",
          "name": "stdout",
          "text": [
            "int64\n",
            "[1. 2. 3. 4. 5. 6. 7. 8. 9.]\n",
            "float64\n"
          ]
        }
      ]
    },
    {
      "cell_type": "markdown",
      "source": [
        "## Reverse a numpy array"
      ],
      "metadata": {
        "id": "x6NdrvG9sI-2"
      }
    },
    {
      "cell_type": "code",
      "source": [
        "array = np.arange(1, 11)\n",
        "np.flip(array)\n",
        "\n",
        "#np.flipud flips the array in the axis 0\n",
        "#np.fliplr flips the array in the axis 1\n",
        "\n",
        "# array_2 = np.array([np.arange(1, 11), np.arange(11, 21)])\n",
        "# np.fliplr(array_2)"
      ],
      "metadata": {
        "id": "yaiSqsSCsKBa",
        "colab": {
          "base_uri": "https://localhost:8080/"
        },
        "outputId": "57db1148-eb54-4a4a-83d6-42767bd24f48"
      },
      "execution_count": null,
      "outputs": [
        {
          "output_type": "execute_result",
          "data": {
            "text/plain": [
              "array([10,  9,  8,  7,  6,  5,  4,  3,  2,  1])"
            ]
          },
          "metadata": {},
          "execution_count": 26
        }
      ]
    },
    {
      "cell_type": "markdown",
      "source": [
        "## How to make a NumPy array read-only?"
      ],
      "metadata": {
        "id": "5JtEnRXQsKr8"
      }
    },
    {
      "cell_type": "code",
      "source": [
        "array = np.arange(1, 11)\n",
        "\n",
        "array[1] = 70\n",
        "\n",
        "print(\"First change: \", array)\n",
        "\n",
        "array.setflags(write=False)\n",
        "\n",
        "try:\n",
        "  array[1] = 2\n",
        "\n",
        "except ValueError as e:\n",
        "  print(\"\\nCaiu no caso de value error, pois é defindo só para read-only.\\nAdicionando o try catch para não quebrar o fluxo do código\")"
      ],
      "metadata": {
        "id": "FC_3OtRhsLsO",
        "colab": {
          "base_uri": "https://localhost:8080/"
        },
        "outputId": "85d8ef65-0e4e-4d59-859a-a645525db30a"
      },
      "execution_count": null,
      "outputs": [
        {
          "output_type": "stream",
          "name": "stdout",
          "text": [
            "First change:  [ 1 70  3  4  5  6  7  8  9 10]\n",
            "\n",
            "Caiu no caso de value error, pois é defindo só para read-only.\n",
            "Adicionando o try catch para não quebrar o fluxo do código\n"
          ]
        }
      ]
    },
    {
      "cell_type": "markdown",
      "source": [
        "# 2 - Questions on NumPy Matrix"
      ],
      "metadata": {
        "id": "uNG5-FvMvbbr"
      }
    },
    {
      "cell_type": "markdown",
      "source": [
        "## Get the maximum value from given matrix"
      ],
      "metadata": {
        "id": "ynoYd8D5vc3L"
      }
    },
    {
      "cell_type": "code",
      "source": [
        "matrix = np.matrix(np.arange(12).reshape(3, 4))\n",
        "print(matrix)\n",
        "print(\"Max: \", matrix.max())"
      ],
      "metadata": {
        "colab": {
          "base_uri": "https://localhost:8080/"
        },
        "id": "LZlxO5kPuaKG",
        "outputId": "81aaf99f-af1e-4ff4-a8af-bf6dc747f024"
      },
      "execution_count": null,
      "outputs": [
        {
          "output_type": "stream",
          "name": "stdout",
          "text": [
            "[[ 0  1  2  3]\n",
            " [ 4  5  6  7]\n",
            " [ 8  9 10 11]]\n",
            "Max:  11\n"
          ]
        }
      ]
    },
    {
      "cell_type": "markdown",
      "source": [
        "## Get the minimum value from given matrix"
      ],
      "metadata": {
        "id": "ZU5p0sZhvgBK"
      }
    },
    {
      "cell_type": "code",
      "source": [
        "matrix = np.matrix(np.arange(12).reshape(3, 4))\n",
        "print(matrix)\n",
        "print(\"Min: \", matrix.min())"
      ],
      "metadata": {
        "colab": {
          "base_uri": "https://localhost:8080/"
        },
        "id": "zNkj6ITpvhW3",
        "outputId": "97cfb947-0595-4839-a5d7-5698eaf8d3dc"
      },
      "execution_count": null,
      "outputs": [
        {
          "output_type": "stream",
          "name": "stdout",
          "text": [
            "[[ 0  1  2  3]\n",
            " [ 4  5  6  7]\n",
            " [ 8  9 10 11]]\n",
            "Min:  0\n"
          ]
        }
      ]
    },
    {
      "cell_type": "markdown",
      "source": [
        "## Find the number of rows and columns of a given matrix using NumPy"
      ],
      "metadata": {
        "id": "E5daeiUevlPQ"
      }
    },
    {
      "cell_type": "code",
      "source": [
        "matrix = np.matrix(np.arange(12).reshape(3, 4))\n",
        "print(\"Rows: {} | Columns: {}\".format(matrix.shape[0], matrix.shape[1]))"
      ],
      "metadata": {
        "colab": {
          "base_uri": "https://localhost:8080/"
        },
        "id": "qWWF5a2nvmcM",
        "outputId": "cbae544b-b603-45f9-b220-b6c7d67a1e88"
      },
      "execution_count": null,
      "outputs": [
        {
          "output_type": "stream",
          "name": "stdout",
          "text": [
            "Rows: 3 | Columns: 4\n"
          ]
        }
      ]
    },
    {
      "cell_type": "markdown",
      "source": [
        "## Select the elements from a given matrix"
      ],
      "metadata": {
        "id": "lJ5aB3o4vm6u"
      }
    },
    {
      "cell_type": "code",
      "source": [
        "matrix = np.matrix(np.arange(16).reshape(4, 4))\n",
        "print(matrix)\n",
        "print(\"\")\n",
        "np.choose([0, 1, 2, 3], matrix) #Choose the element acording to the sequence (First row, first element), (Second row, second element) ..."
      ],
      "metadata": {
        "colab": {
          "base_uri": "https://localhost:8080/"
        },
        "id": "57mGefE7voA9",
        "outputId": "c35881e3-a3e7-4322-b70c-92cae11838c2"
      },
      "execution_count": null,
      "outputs": [
        {
          "output_type": "stream",
          "name": "stdout",
          "text": [
            "[[ 0  1  2  3]\n",
            " [ 4  5  6  7]\n",
            " [ 8  9 10 11]\n",
            " [12 13 14 15]]\n",
            "\n"
          ]
        },
        {
          "output_type": "execute_result",
          "data": {
            "text/plain": [
              "array([[ 0,  5, 10, 15]])"
            ]
          },
          "metadata": {},
          "execution_count": 31
        }
      ]
    },
    {
      "cell_type": "markdown",
      "source": [
        "## Find the sum of values in a matrix"
      ],
      "metadata": {
        "id": "oX8SQROuvodj"
      }
    },
    {
      "cell_type": "code",
      "source": [
        "matrix = np.matrix(np.arange(9).reshape(3, 3))\n",
        "np.sum(matrix)"
      ],
      "metadata": {
        "id": "Rhl5WWHMvplL",
        "colab": {
          "base_uri": "https://localhost:8080/"
        },
        "outputId": "ce416a7c-5e64-49ce-eea2-ceb6fc47a760"
      },
      "execution_count": null,
      "outputs": [
        {
          "output_type": "execute_result",
          "data": {
            "text/plain": [
              "36"
            ]
          },
          "metadata": {},
          "execution_count": 32
        }
      ]
    },
    {
      "cell_type": "markdown",
      "source": [
        "## Calculate the sum of the diagonal elements of a NumPy array"
      ],
      "metadata": {
        "id": "qOKEYyeOvqHh"
      }
    },
    {
      "cell_type": "code",
      "source": [
        "matrix = np.matrix(np.arange(16).reshape(4, 4))\n",
        "np.trace(matrix)"
      ],
      "metadata": {
        "id": "IcRdCIPOvrT9",
        "colab": {
          "base_uri": "https://localhost:8080/"
        },
        "outputId": "cad7f985-7b7e-426c-cd6c-8b46c6b1e456"
      },
      "execution_count": null,
      "outputs": [
        {
          "output_type": "execute_result",
          "data": {
            "text/plain": [
              "30"
            ]
          },
          "metadata": {},
          "execution_count": 33
        }
      ]
    },
    {
      "cell_type": "markdown",
      "source": [
        "## Adding and Subtracting Matrices in Python"
      ],
      "metadata": {
        "id": "rC-Lw0UCvrv7"
      }
    },
    {
      "cell_type": "code",
      "source": [
        "matrix1 = np.matrix(np.arange(16).reshape(4, 4))\n",
        "matrix2 = matrix1\n",
        "\n",
        "sum = np.add(matrix1, matrix2)\n",
        "print(sum)\n",
        "\n",
        "print()\n",
        "\n",
        "sub = np.subtract(matrix1, matrix2)\n",
        "print(sub)"
      ],
      "metadata": {
        "id": "WQ1qTzoFvsyV",
        "colab": {
          "base_uri": "https://localhost:8080/"
        },
        "outputId": "ce3612e1-336a-45de-8d44-586173018803"
      },
      "execution_count": null,
      "outputs": [
        {
          "output_type": "stream",
          "name": "stdout",
          "text": [
            "[[ 0  2  4  6]\n",
            " [ 8 10 12 14]\n",
            " [16 18 20 22]\n",
            " [24 26 28 30]]\n",
            "\n",
            "[[0 0 0 0]\n",
            " [0 0 0 0]\n",
            " [0 0 0 0]\n",
            " [0 0 0 0]]\n"
          ]
        }
      ]
    },
    {
      "cell_type": "markdown",
      "source": [
        "## Ways to add row/columns in numpy array"
      ],
      "metadata": {
        "id": "3FPZMsg5vtas"
      }
    },
    {
      "cell_type": "code",
      "source": [
        "array = np.arange(9).reshape(3, 3)\n",
        "#adding column\n",
        "array = np.append(array, np.array([[6], [0], [6]]), axis=1)\n",
        "array\n",
        "\n",
        "#adding row\n",
        "array = np.append(array, np.array([[9, 10, 11, 12]]), axis=0)\n",
        "array"
      ],
      "metadata": {
        "id": "n1IIubn5vuaT",
        "colab": {
          "base_uri": "https://localhost:8080/"
        },
        "outputId": "b6014980-7ca9-40a3-f26a-efdc883d0173"
      },
      "execution_count": null,
      "outputs": [
        {
          "output_type": "execute_result",
          "data": {
            "text/plain": [
              "array([[ 0,  1,  2,  6],\n",
              "       [ 3,  4,  5,  0],\n",
              "       [ 6,  7,  8,  6],\n",
              "       [ 9, 10, 11, 12]])"
            ]
          },
          "metadata": {},
          "execution_count": 35
        }
      ]
    },
    {
      "cell_type": "markdown",
      "source": [
        "## Matrix Multiplication in NumPy"
      ],
      "metadata": {
        "id": "ocAXRK0rvuyk"
      }
    },
    {
      "cell_type": "code",
      "source": [
        "matrix1 = np.matrix(np.arange(4).reshape(2, 2))\n",
        "matrix2 = matrix1\n",
        "\n",
        "np.dot(matrix1, matrix2)"
      ],
      "metadata": {
        "id": "9TDqF4kvvv4z",
        "colab": {
          "base_uri": "https://localhost:8080/"
        },
        "outputId": "9c952278-ee0d-421e-f2fe-a7e50dcf0f53"
      },
      "execution_count": null,
      "outputs": [
        {
          "output_type": "execute_result",
          "data": {
            "text/plain": [
              "matrix([[ 2,  3],\n",
              "        [ 6, 11]])"
            ]
          },
          "metadata": {},
          "execution_count": 36
        }
      ]
    },
    {
      "cell_type": "markdown",
      "source": [
        "## Get the eigen values of a matrix"
      ],
      "metadata": {
        "id": "at4GiU2dvwXg"
      }
    },
    {
      "cell_type": "code",
      "source": [
        "A = np.matrix(np.array([[1,2,3],[3,2,1],[1,0,-1]]))\n",
        "w, v = np.linalg.eig(A)\n",
        "w"
      ],
      "metadata": {
        "id": "KYAq5cqavxgB",
        "colab": {
          "base_uri": "https://localhost:8080/"
        },
        "outputId": "5c55bf37-8f20-4c81-b248-7151972adaba"
      },
      "execution_count": null,
      "outputs": [
        {
          "output_type": "execute_result",
          "data": {
            "text/plain": [
              "array([ 4.31662479e+00, -2.31662479e+00,  1.93041509e-17])"
            ]
          },
          "metadata": {},
          "execution_count": 37
        }
      ]
    },
    {
      "cell_type": "markdown",
      "source": [
        "## How to Calculate the determinant of a matrix using NumPy?"
      ],
      "metadata": {
        "id": "vPK4RGP_vyHb"
      }
    },
    {
      "cell_type": "code",
      "source": [
        "array = np.matrix(np.array([[50, 29], [30, 44]]))\n",
        "det = np.linalg.det(array)\n",
        "print(int(det))"
      ],
      "metadata": {
        "id": "vXS18rbZvzGW",
        "colab": {
          "base_uri": "https://localhost:8080/"
        },
        "outputId": "a9a93695-0327-49f5-db67-a1d598e68ba0"
      },
      "execution_count": null,
      "outputs": [
        {
          "output_type": "stream",
          "name": "stdout",
          "text": [
            "1330\n"
          ]
        }
      ]
    },
    {
      "cell_type": "markdown",
      "source": [
        "## How to inverse a matrix using NumPy"
      ],
      "metadata": {
        "id": "C2f8bRm_vziy"
      }
    },
    {
      "cell_type": "code",
      "source": [
        "matrix = np.matrix(np.array([[6, 1, 1], [4, -2, 5], [2, 8, 7]]))\n",
        "np.linalg.inv(matrix)"
      ],
      "metadata": {
        "id": "Ab9boP49v03s",
        "colab": {
          "base_uri": "https://localhost:8080/"
        },
        "outputId": "2231d3c9-f26d-4241-ee47-16f1dc633e17"
      },
      "execution_count": null,
      "outputs": [
        {
          "output_type": "execute_result",
          "data": {
            "text/plain": [
              "matrix([[ 0.17647059, -0.00326797, -0.02287582],\n",
              "        [ 0.05882353, -0.13071895,  0.08496732],\n",
              "        [-0.11764706,  0.1503268 ,  0.05228758]])"
            ]
          },
          "metadata": {},
          "execution_count": 39
        }
      ]
    },
    {
      "cell_type": "markdown",
      "source": [
        "## How to count the frequency of unique values in NumPy array?"
      ],
      "metadata": {
        "id": "7PQG1qBPv1Pz"
      }
    },
    {
      "cell_type": "code",
      "source": [
        "array = np.array([10, 20, 5, 10, 8, 20, 8, 9])\n",
        "unique, frequency = np.unique(array, return_counts=True)\n",
        "\n",
        "print(unique)\n",
        "print(frequency)"
      ],
      "metadata": {
        "id": "wWutcCzmv2P0",
        "colab": {
          "base_uri": "https://localhost:8080/"
        },
        "outputId": "36976123-3018-40b0-986d-f6507e0dd4d2"
      },
      "execution_count": null,
      "outputs": [
        {
          "output_type": "stream",
          "name": "stdout",
          "text": [
            "[ 5  8  9 10 20]\n",
            "[1 2 1 2 2]\n"
          ]
        }
      ]
    },
    {
      "cell_type": "markdown",
      "source": [
        "## Multiply matrices of complex numbers using NumPy in Python"
      ],
      "metadata": {
        "id": "FcPDDmbwv2mV"
      }
    },
    {
      "cell_type": "code",
      "source": [
        "x = np.array([2+3j, 4+5j])\n",
        "y = np.array([8+7j, 5+6j])\n",
        "\n",
        "z = np.vdot(x, y)\n",
        "z"
      ],
      "metadata": {
        "id": "NPaiieAKv3w6",
        "colab": {
          "base_uri": "https://localhost:8080/"
        },
        "outputId": "c69fdf10-e548-4e53-9e96-ded0a8c7a6af"
      },
      "execution_count": null,
      "outputs": [
        {
          "output_type": "execute_result",
          "data": {
            "text/plain": [
              "(87-11j)"
            ]
          },
          "metadata": {},
          "execution_count": 41
        }
      ]
    },
    {
      "cell_type": "markdown",
      "source": [
        "## Compute the outer product of two given vectors using NumPy in Python"
      ],
      "metadata": {
        "id": "mbOQ7Cm-v4Jt"
      }
    },
    {
      "cell_type": "code",
      "source": [
        "array1 = np.array([6,2])\n",
        "array2 = np.array([2,5])\n",
        "\n",
        "result = np.outer(array1, array2)\n",
        "result"
      ],
      "metadata": {
        "id": "5O9R7yPVv5I4",
        "colab": {
          "base_uri": "https://localhost:8080/"
        },
        "outputId": "286c3018-f60d-467f-d962-6285109bf23f"
      },
      "execution_count": null,
      "outputs": [
        {
          "output_type": "execute_result",
          "data": {
            "text/plain": [
              "array([[12, 30],\n",
              "       [ 4, 10]])"
            ]
          },
          "metadata": {},
          "execution_count": 42
        }
      ]
    },
    {
      "cell_type": "markdown",
      "source": [
        "## Calculate inner, outer, and cross products of matrices and vectors using NumPy"
      ],
      "metadata": {
        "id": "jVl-8VBCv5kw"
      }
    },
    {
      "cell_type": "code",
      "source": [
        "x = np.matrix(np.array([[2, 3, 4], [3, 2, 9]])).reshape(2, 3)\n",
        "y = np.matrix(np.array([[1, 5, 0], [5, 10, 3]])).reshape(2, 3)\n",
        "\n",
        "print(\"Inner: \", np.inner(x, y))\n",
        "print(\"Outer: \", np.outer(x, y))\n",
        "print(\"Cross: \", np.cross(x, y))"
      ],
      "metadata": {
        "id": "COvFuKSiv9ZW",
        "colab": {
          "base_uri": "https://localhost:8080/"
        },
        "outputId": "432cd58d-1ce3-462a-dd33-8c7a84e3fc44"
      },
      "execution_count": null,
      "outputs": [
        {
          "output_type": "stream",
          "name": "stdout",
          "text": [
            "Inner:  [[17 52]\n",
            " [13 62]]\n",
            "Outer:  [[ 2 10  0 10 20  6]\n",
            " [ 3 15  0 15 30  9]\n",
            " [ 4 20  0 20 40 12]\n",
            " [ 3 15  0 15 30  9]\n",
            " [ 2 10  0 10 20  6]\n",
            " [ 9 45  0 45 90 27]]\n",
            "Cross:  [[-20   4   7]\n",
            " [-84  36  20]]\n"
          ]
        }
      ]
    },
    {
      "cell_type": "markdown",
      "source": [
        "## Compute the covariance matrix of two given NumPy arrays"
      ],
      "metadata": {
        "id": "K_eWpN4Jv-BA"
      }
    },
    {
      "cell_type": "code",
      "source": [
        "array1 = np.array([0, 1, 1])\n",
        "array2 = np.array([2, 2, 1])\n",
        "\n",
        "np.cov(array1, array2)"
      ],
      "metadata": {
        "id": "OH2vvRUjv-5-",
        "colab": {
          "base_uri": "https://localhost:8080/"
        },
        "outputId": "f37bba62-9d03-4d82-cbee-ecb6f9431842"
      },
      "execution_count": null,
      "outputs": [
        {
          "output_type": "execute_result",
          "data": {
            "text/plain": [
              "array([[ 0.33333333, -0.16666667],\n",
              "       [-0.16666667,  0.33333333]])"
            ]
          },
          "metadata": {},
          "execution_count": 44
        }
      ]
    },
    {
      "cell_type": "markdown",
      "source": [
        "## Convert covariance matrix to correlation matrix using Python"
      ],
      "metadata": {
        "id": "fr509ZJdv_Z3"
      }
    },
    {
      "cell_type": "code",
      "source": [
        "data = pd.read_csv('https://gist.githubusercontent.com/netj/8836201/raw/6f9306ad21398ea43cba4f7d537619d0e07d5ae3/iris.csv')\n",
        "data = data.iloc[:, :-1].values\n",
        "np.cov(data, rowvar=False)"
      ],
      "metadata": {
        "id": "0ckXdy1ZwAUg",
        "colab": {
          "base_uri": "https://localhost:8080/"
        },
        "outputId": "c7557dbf-185e-4f1a-fd0b-31f67f731361"
      },
      "execution_count": null,
      "outputs": [
        {
          "output_type": "execute_result",
          "data": {
            "text/plain": [
              "array([[ 0.68569351, -0.042434  ,  1.27431544,  0.51627069],\n",
              "       [-0.042434  ,  0.18997942, -0.32965638, -0.12163937],\n",
              "       [ 1.27431544, -0.32965638,  3.11627785,  1.2956094 ],\n",
              "       [ 0.51627069, -0.12163937,  1.2956094 ,  0.58100626]])"
            ]
          },
          "metadata": {},
          "execution_count": 45
        }
      ]
    },
    {
      "cell_type": "code",
      "source": [
        "np.corrcoef(data,rowvar=False)"
      ],
      "metadata": {
        "colab": {
          "base_uri": "https://localhost:8080/"
        },
        "id": "Kec2GwWR9_fR",
        "outputId": "fa130f81-7234-4de3-9e31-ef8d9c256c52"
      },
      "execution_count": null,
      "outputs": [
        {
          "output_type": "execute_result",
          "data": {
            "text/plain": [
              "array([[ 1.        , -0.11756978,  0.87175378,  0.81794113],\n",
              "       [-0.11756978,  1.        , -0.4284401 , -0.36612593],\n",
              "       [ 0.87175378, -0.4284401 ,  1.        ,  0.96286543],\n",
              "       [ 0.81794113, -0.36612593,  0.96286543,  1.        ]])"
            ]
          },
          "metadata": {},
          "execution_count": 46
        }
      ]
    },
    {
      "cell_type": "markdown",
      "source": [
        "## Compute the Kronecker product of two mulitdimension NumPy arrays"
      ],
      "metadata": {
        "id": "XMpGxzZKwAv1"
      }
    },
    {
      "cell_type": "code",
      "source": [
        "array1 = np.array([[1, 2], [3, 4]])\n",
        "array2 = np.array([[5, 6], [7, 8]])\n",
        "\n",
        "kroneckerProduct = np.kron(array1, array2)\n",
        "kroneckerProduct"
      ],
      "metadata": {
        "id": "kDHqDkfbwB9d",
        "colab": {
          "base_uri": "https://localhost:8080/"
        },
        "outputId": "7aaecdde-f213-46d3-95bd-702a7f70c4e0"
      },
      "execution_count": null,
      "outputs": [
        {
          "output_type": "execute_result",
          "data": {
            "text/plain": [
              "array([[ 5,  6, 10, 12],\n",
              "       [ 7,  8, 14, 16],\n",
              "       [15, 18, 20, 24],\n",
              "       [21, 24, 28, 32]])"
            ]
          },
          "metadata": {},
          "execution_count": 47
        }
      ]
    },
    {
      "cell_type": "markdown",
      "source": [
        "## Convert the matrix into a list"
      ],
      "metadata": {
        "id": "2F_KGFpOwCYd"
      }
    },
    {
      "cell_type": "code",
      "source": [
        "matrix = np.matrix(np.arange(12).reshape(3, 4))\n",
        "data_list = matrix.tolist()"
      ],
      "metadata": {
        "id": "0krf-k2DwC4O"
      },
      "execution_count": null,
      "outputs": []
    },
    {
      "cell_type": "markdown",
      "source": [
        "# 3 - Questions on NumPy Indexing"
      ],
      "metadata": {
        "id": "mgzp-1WowFtO"
      }
    },
    {
      "cell_type": "markdown",
      "source": [
        "## Replace NumPy array elements that doesn’t satisfy the given condition"
      ],
      "metadata": {
        "id": "Zhux47kzwISB"
      }
    },
    {
      "cell_type": "code",
      "source": [
        "n_arr = np.array([75.42436315, 42.48558583, 60.32924763])\n",
        "n_arr[n_arr > 50.] = 15.50\n",
        "n_arr"
      ],
      "metadata": {
        "id": "jSoTV9V2wHUR",
        "colab": {
          "base_uri": "https://localhost:8080/"
        },
        "outputId": "ecb36d37-ca5c-46cf-99b2-5a4f3f1602be"
      },
      "execution_count": null,
      "outputs": [
        {
          "output_type": "execute_result",
          "data": {
            "text/plain": [
              "array([15.5       , 42.48558583, 15.5       ])"
            ]
          },
          "metadata": {},
          "execution_count": 49
        }
      ]
    },
    {
      "cell_type": "markdown",
      "source": [
        "## Return the indices of elements where the given condition is satisfied"
      ],
      "metadata": {
        "id": "V7mIncSawKvB"
      }
    },
    {
      "cell_type": "code",
      "source": [
        "a = np.array([[1, 2, 3], [4, 5, 6]])\n",
        "b = np.where(a<4)\n",
        "a[b]"
      ],
      "metadata": {
        "id": "_lY4oFYjwOO3",
        "colab": {
          "base_uri": "https://localhost:8080/"
        },
        "outputId": "d79d6b0a-020d-48fd-b2a1-e54e180ae2e9"
      },
      "execution_count": null,
      "outputs": [
        {
          "output_type": "execute_result",
          "data": {
            "text/plain": [
              "array([1, 2, 3])"
            ]
          },
          "metadata": {},
          "execution_count": 50
        }
      ]
    },
    {
      "cell_type": "markdown",
      "source": [
        "## Replace NaN values with average of columns"
      ],
      "metadata": {
        "id": "k8ChG8dtzMJC"
      }
    },
    {
      "cell_type": "code",
      "source": [
        "ini_array = np.array([[1.3, 2.5, 3.6, np.nan], [2.6, 3.3, np.nan, 5.5], [2.1, 3.2, 5.4, 6.5]])\n",
        "col_mean = np.nanmean(ini_array, axis = 0)\n",
        "inds = np.where(np.isnan(ini_array))\n",
        "ini_array[inds] = np.take(col_mean, inds[1])\n",
        "print(\"final array\", ini_array)"
      ],
      "metadata": {
        "id": "PHP_YAVUzNMe",
        "colab": {
          "base_uri": "https://localhost:8080/"
        },
        "outputId": "fa3c7715-2c0b-4a5e-8ce3-d1b30dbbec40"
      },
      "execution_count": null,
      "outputs": [
        {
          "output_type": "stream",
          "name": "stdout",
          "text": [
            "final array [[1.3 2.5 3.6 6. ]\n",
            " [2.6 3.3 4.5 5.5]\n",
            " [2.1 3.2 5.4 6.5]]\n"
          ]
        }
      ]
    },
    {
      "cell_type": "markdown",
      "source": [
        "## Replace negative value with zero in numpy array"
      ],
      "metadata": {
        "id": "audh2KEhzNsY"
      }
    },
    {
      "cell_type": "code",
      "source": [
        "ini_array = np.array([1, 2, -3, 4, -5, -6])\n",
        "ini_array[ini_array<0] = 0\n",
        "ini_array"
      ],
      "metadata": {
        "id": "RKabJTAezOq9",
        "colab": {
          "base_uri": "https://localhost:8080/"
        },
        "outputId": "46539113-3be1-4030-fb07-71ed176c2232"
      },
      "execution_count": null,
      "outputs": [
        {
          "output_type": "execute_result",
          "data": {
            "text/plain": [
              "array([1, 2, 0, 4, 0, 0])"
            ]
          },
          "metadata": {},
          "execution_count": 52
        }
      ]
    },
    {
      "cell_type": "markdown",
      "source": [
        "## How to get values of an NumPy array at certain index positions?"
      ],
      "metadata": {
        "id": "fa-6H_mpzPEU"
      }
    },
    {
      "cell_type": "code",
      "source": [
        "a1 = np.array([11, 10, 22, 30, 33])\n",
        "a2 = np.array([1, 15, 60])\n",
        "a1.put([0, 3, 4], a2)\n",
        "a1"
      ],
      "metadata": {
        "id": "7zEQSLHMzP5c",
        "colab": {
          "base_uri": "https://localhost:8080/"
        },
        "outputId": "40e0596a-8609-45f3-8f83-147ea54f3763"
      },
      "execution_count": null,
      "outputs": [
        {
          "output_type": "execute_result",
          "data": {
            "text/plain": [
              "array([ 1, 10, 22, 15, 60])"
            ]
          },
          "metadata": {},
          "execution_count": 53
        }
      ]
    },
    {
      "cell_type": "markdown",
      "source": [
        "## Find indices of elements equal to zero in a NumPy array"
      ],
      "metadata": {
        "id": "i7v-QYP8zQPZ"
      }
    },
    {
      "cell_type": "code",
      "source": [
        "x = np.array([1,0,2,0,3,0,4,5,6,7,8])\n",
        "np.where(x == 0)[0]"
      ],
      "metadata": {
        "id": "XfOI3IJXzREb",
        "colab": {
          "base_uri": "https://localhost:8080/"
        },
        "outputId": "68528b0f-f6b0-4b03-ade8-f27ca06fb272"
      },
      "execution_count": null,
      "outputs": [
        {
          "output_type": "execute_result",
          "data": {
            "text/plain": [
              "array([1, 3, 5])"
            ]
          },
          "metadata": {},
          "execution_count": 54
        }
      ]
    },
    {
      "cell_type": "markdown",
      "source": [
        "## How to Remove columns in Numpy array that contains non-numeric values?"
      ],
      "metadata": {
        "id": "K5KvuvN4zRgq"
      }
    },
    {
      "cell_type": "code",
      "source": [
        "n_arr = np.array([[10.5, 22.5, np.nan], [41, 52.5, np.nan]])\n",
        "n_arr[:, ~np.isnan(n_arr).any(axis=0)]"
      ],
      "metadata": {
        "id": "RE0bLyAxzSii",
        "colab": {
          "base_uri": "https://localhost:8080/"
        },
        "outputId": "6bfaaf66-c44f-4e6f-e858-2e082fb8bc72"
      },
      "execution_count": null,
      "outputs": [
        {
          "output_type": "execute_result",
          "data": {
            "text/plain": [
              "array([[10.5, 22.5],\n",
              "       [41. , 52.5]])"
            ]
          },
          "metadata": {},
          "execution_count": 55
        }
      ]
    },
    {
      "cell_type": "markdown",
      "source": [
        "## How to access different rows of a multidimensional NumPy array?"
      ],
      "metadata": {
        "id": "tJsHLqcozS75"
      }
    },
    {
      "cell_type": "code",
      "source": [
        "arr = np.array([[10, 20, 30], [40, 5, 66], [70, 88, 94]])\n",
        "arr[[0,2]]"
      ],
      "metadata": {
        "id": "LGLF9yb8zTwB",
        "colab": {
          "base_uri": "https://localhost:8080/"
        },
        "outputId": "55124d38-043f-4bf3-b985-27eaec4c9934"
      },
      "execution_count": null,
      "outputs": [
        {
          "output_type": "execute_result",
          "data": {
            "text/plain": [
              "array([[10, 20, 30],\n",
              "       [70, 88, 94]])"
            ]
          },
          "metadata": {},
          "execution_count": 56
        }
      ]
    },
    {
      "cell_type": "markdown",
      "source": [
        "## Get row numbers of NumPy array having element larger than X"
      ],
      "metadata": {
        "id": "e8Sw4F5FzUFM"
      }
    },
    {
      "cell_type": "code",
      "source": [
        "arr = np.array([[1, 2, 3, 4, 5], [10, -3, 30, 4, 5], [3, 2, 5, -4, 5], [9, 7, 3, 6, 5]])\n",
        "x = 6\n",
        "output = np.where(np.any(arr > x, axis = 1))\n",
        "output"
      ],
      "metadata": {
        "id": "CX6dPhiWzUwS",
        "colab": {
          "base_uri": "https://localhost:8080/"
        },
        "outputId": "857691da-d35d-4480-8214-c5ac3a56d666"
      },
      "execution_count": null,
      "outputs": [
        {
          "output_type": "execute_result",
          "data": {
            "text/plain": [
              "(array([1, 3]),)"
            ]
          },
          "metadata": {},
          "execution_count": 57
        }
      ]
    },
    {
      "cell_type": "markdown",
      "source": [
        "## Get filled the diagonals of NumPy array"
      ],
      "metadata": {
        "id": "4_z8ema1zVIJ"
      }
    },
    {
      "cell_type": "code",
      "source": [
        "array = np.array([[1, 2], [2, 1]])\n",
        "np.fill_diagonal(array, 5)\n",
        "array"
      ],
      "metadata": {
        "id": "1SfrpfRdzV1o",
        "colab": {
          "base_uri": "https://localhost:8080/"
        },
        "outputId": "c84145a8-0eec-41b5-c826-5c4f8b4b0a59"
      },
      "execution_count": null,
      "outputs": [
        {
          "output_type": "execute_result",
          "data": {
            "text/plain": [
              "array([[5, 2],\n",
              "       [2, 5]])"
            ]
          },
          "metadata": {},
          "execution_count": 58
        }
      ]
    },
    {
      "cell_type": "markdown",
      "source": [
        "## Check elements present in the NumPy array"
      ],
      "metadata": {
        "id": "5qYpPdnxzWQh"
      }
    },
    {
      "cell_type": "code",
      "source": [
        "array = np.array([[2, 3, 0], [4, 1, 6]])\n",
        "print(2 in array)\n",
        "print(7 in array)"
      ],
      "metadata": {
        "id": "OcdyAUdXzXXS",
        "colab": {
          "base_uri": "https://localhost:8080/"
        },
        "outputId": "fea9c7db-e764-4531-c2dd-b64780662c17"
      },
      "execution_count": null,
      "outputs": [
        {
          "output_type": "stream",
          "name": "stdout",
          "text": [
            "True\n",
            "False\n"
          ]
        }
      ]
    },
    {
      "cell_type": "markdown",
      "source": [
        "## Combined array index by index"
      ],
      "metadata": {
        "id": "-Rt5vEIyzX8K"
      }
    },
    {
      "cell_type": "code",
      "source": [
        "a = np.array([[1, 2, 3, 4, 5], \n",
        "              [10, -3, 30, 4, 5], \n",
        "              [3, 2, 5, -4, 5], \n",
        "              [9, 7, 3, 6, 5]])\n",
        "\n",
        "#Get the rows and lines where the condition is satisfied\n",
        "idx1 = np.where(a>2)\n",
        "idx2 = np.where(a<6)\n",
        "\n",
        "# to convert the multi-dim index into 1-dim index.\n",
        "ridx1 = np.ravel_multi_index(idx1, a.shape)\n",
        "ridx2 = np.ravel_multi_index(idx2, a.shape)\n",
        "\n",
        "#to get the index that in both condition.\n",
        "ridx = np.intersect1d(ridx1, ridx2)\n",
        "\n",
        "#to convert the 1-dim index back to multi-dim index.\n",
        "idx = np.unravel_index(ridx, a.shape)\n",
        "\n",
        "#Can be used to see if two arrays are element-wise equal within a tolerance\n",
        "#np.allclose(a[idx], a[(a>2) & (a<6)])\n",
        "\n",
        "print(\"Result array: \", a[idx])"
      ],
      "metadata": {
        "id": "I4bYR6e_zYjJ",
        "colab": {
          "base_uri": "https://localhost:8080/"
        },
        "outputId": "559e482d-afe9-470e-be7b-44eb71b0e561"
      },
      "execution_count": null,
      "outputs": [
        {
          "output_type": "stream",
          "name": "stdout",
          "text": [
            "Result array:  [3 4 5 4 5 3 5 5 3 5]\n"
          ]
        }
      ]
    },
    {
      "cell_type": "markdown",
      "source": [
        "# 4 - Questions on NumPy Linear Algebra"
      ],
      "metadata": {
        "id": "E67VAhT1zeNb"
      }
    },
    {
      "cell_type": "markdown",
      "source": [
        "## Find a matrix or vector norm using NumPy"
      ],
      "metadata": {
        "id": "cYtywRbuzjjE"
      }
    },
    {
      "cell_type": "code",
      "source": [
        "array = np.arange(10)\n",
        "np.linalg.norm(array)"
      ],
      "metadata": {
        "id": "NeXBlb4HzkhW",
        "colab": {
          "base_uri": "https://localhost:8080/"
        },
        "outputId": "73bf958b-0b9b-4f82-9ae1-9bd433374b1a"
      },
      "execution_count": null,
      "outputs": [
        {
          "output_type": "execute_result",
          "data": {
            "text/plain": [
              "16.881943016134134"
            ]
          },
          "metadata": {},
          "execution_count": 61
        }
      ]
    },
    {
      "cell_type": "markdown",
      "source": [
        "## Calculate the QR decomposition of a given matrix using NumPy"
      ],
      "metadata": {
        "id": "we7NVwrXzk2U"
      }
    },
    {
      "cell_type": "code",
      "source": [
        "matrix = np.matrix(np.array([[1, 2, 3], [3, 4, 5]]))\n",
        "q, r = np.linalg.qr(matrix1)\n",
        "print(\"Q: {}\\n\\n R: {}\".format(q, r))"
      ],
      "metadata": {
        "id": "vbzFHR0bzlpj",
        "colab": {
          "base_uri": "https://localhost:8080/"
        },
        "outputId": "2aaebc37-12e3-42d4-d762-02e844fed101"
      },
      "execution_count": null,
      "outputs": [
        {
          "output_type": "stream",
          "name": "stdout",
          "text": [
            "Q: [[ 0. -1.]\n",
            " [-1.  0.]]\n",
            "\n",
            " R: [[-2. -3.]\n",
            " [ 0. -1.]]\n"
          ]
        }
      ]
    },
    {
      "cell_type": "markdown",
      "source": [
        "## Compute the condition number of a given matrix using NumPy"
      ],
      "metadata": {
        "id": "yLq9PsAMzmFJ"
      }
    },
    {
      "cell_type": "code",
      "source": [
        "matrix = np.matrix(np.array([[4, 2], [3, 1]]))\n",
        "np.linalg.cond(matrix)"
      ],
      "metadata": {
        "id": "9eI6pjLMznOh",
        "colab": {
          "base_uri": "https://localhost:8080/"
        },
        "outputId": "f08ae3bb-8372-4802-a33b-fe82205b0d1a"
      },
      "execution_count": null,
      "outputs": [
        {
          "output_type": "execute_result",
          "data": {
            "text/plain": [
              "14.933034373659256"
            ]
          },
          "metadata": {},
          "execution_count": 63
        }
      ]
    },
    {
      "cell_type": "markdown",
      "source": [
        "## Compute the eigenvalues and right eigenvectors of a given square array using NumPy?"
      ],
      "metadata": {
        "id": "L6BdefcMznm_"
      }
    },
    {
      "cell_type": "code",
      "source": [
        "matrix = np.array([[1, 2], [2, 3]])\n",
        "w, v = np.linalg.eig(matrix)\n",
        "print(\"Eigenvalues: \", w)\n",
        "print(\"Right eigenvector: \", v)"
      ],
      "metadata": {
        "id": "z0Iv4FqrzogN",
        "colab": {
          "base_uri": "https://localhost:8080/"
        },
        "outputId": "f7190283-014d-4407-d66c-578e45df4224"
      },
      "execution_count": null,
      "outputs": [
        {
          "output_type": "stream",
          "name": "stdout",
          "text": [
            "Eigenvalues:  [-0.23606798  4.23606798]\n",
            "Right eigenvector:  [[-0.85065081 -0.52573111]\n",
            " [ 0.52573111 -0.85065081]]\n"
          ]
        }
      ]
    },
    {
      "cell_type": "markdown",
      "source": [
        "## Calculate the Euclidean distance using NumPy"
      ],
      "metadata": {
        "id": "x5HSuJsVzo_5"
      }
    },
    {
      "cell_type": "code",
      "source": [
        "point1 = np.array((1, 2, 3))\n",
        "point2 = np.array((1, 1, 1))\n",
        "\n",
        "np.linalg.norm(point1 - point2)"
      ],
      "metadata": {
        "id": "KwrmZI_qzpeD",
        "colab": {
          "base_uri": "https://localhost:8080/"
        },
        "outputId": "968ccaad-628e-431a-8192-c8c067aec8b3"
      },
      "execution_count": null,
      "outputs": [
        {
          "output_type": "execute_result",
          "data": {
            "text/plain": [
              "2.23606797749979"
            ]
          },
          "metadata": {},
          "execution_count": 65
        }
      ]
    },
    {
      "cell_type": "markdown",
      "source": [
        "# 5 - Questions on NumPy Random"
      ],
      "metadata": {
        "id": "QF-CyOYPzrCs"
      }
    },
    {
      "cell_type": "markdown",
      "source": [
        "## Create a Numpy array with random values"
      ],
      "metadata": {
        "id": "t-ed9dgizs49"
      }
    },
    {
      "cell_type": "code",
      "source": [
        "array = np.random.rand(3,2)\n",
        "array"
      ],
      "metadata": {
        "id": "7GiF35U_zt9u",
        "colab": {
          "base_uri": "https://localhost:8080/"
        },
        "outputId": "e24b0615-71bf-4437-b552-0b202f8779c7"
      },
      "execution_count": null,
      "outputs": [
        {
          "output_type": "execute_result",
          "data": {
            "text/plain": [
              "array([[0.37567333, 0.46834935],\n",
              "       [0.02558434, 0.89419664],\n",
              "       [0.03072243, 0.1862408 ]])"
            ]
          },
          "metadata": {},
          "execution_count": 66
        }
      ]
    },
    {
      "cell_type": "markdown",
      "source": [
        "## How to choose elements from the list with different probability using NumPy?"
      ],
      "metadata": {
        "id": "hkNIHC3hzw8R"
      }
    },
    {
      "cell_type": "code",
      "source": [
        "num_list = [10, 20, 30, 40, 50]\n",
        "np.random.choice(num_list)"
      ],
      "metadata": {
        "id": "60GYbLbXzyC4",
        "colab": {
          "base_uri": "https://localhost:8080/"
        },
        "outputId": "8b267814-c42b-4dff-b368-cf08dccbaccb"
      },
      "execution_count": null,
      "outputs": [
        {
          "output_type": "execute_result",
          "data": {
            "text/plain": [
              "40"
            ]
          },
          "metadata": {},
          "execution_count": 67
        }
      ]
    },
    {
      "cell_type": "markdown",
      "source": [
        "## How to get weighted random choice in Python?"
      ],
      "metadata": {
        "id": "vX0ShkEkzyVD"
      }
    },
    {
      "cell_type": "code",
      "source": [
        "num_list = [10, 20, 30, 40, 50]\n",
        "random.choices(num_list, weights=(10, 20, 30, 40, 50))[0]"
      ],
      "metadata": {
        "id": "8sFUnXNwzzPl",
        "colab": {
          "base_uri": "https://localhost:8080/"
        },
        "outputId": "0b14946c-ecba-4bae-b6ea-ae9d1ec0a46f"
      },
      "execution_count": null,
      "outputs": [
        {
          "output_type": "execute_result",
          "data": {
            "text/plain": [
              "50"
            ]
          },
          "metadata": {},
          "execution_count": 68
        }
      ]
    },
    {
      "cell_type": "markdown",
      "source": [
        "## Generate Random Numbers From The Uniform Distribution using NumPy"
      ],
      "metadata": {
        "id": "NuZ-R0U5zzbz"
      }
    },
    {
      "cell_type": "code",
      "source": [
        "np.random.uniform(low=1, high=20, size=4)"
      ],
      "metadata": {
        "id": "7KxIpGJ0z0Yx",
        "colab": {
          "base_uri": "https://localhost:8080/"
        },
        "outputId": "1d4d62fb-c1e7-4409-f601-789ba8e29fcc"
      },
      "execution_count": null,
      "outputs": [
        {
          "output_type": "execute_result",
          "data": {
            "text/plain": [
              "array([ 4.00676471, 10.5722859 ,  6.59269046, 15.55249537])"
            ]
          },
          "metadata": {},
          "execution_count": 69
        }
      ]
    },
    {
      "cell_type": "markdown",
      "source": [
        "## Get Random Elements form geometric distribution"
      ],
      "metadata": {
        "id": "0qlTQoAQz0mW"
      }
    },
    {
      "cell_type": "code",
      "source": [
        "np.random.geometric(p=0.35, size=5)"
      ],
      "metadata": {
        "id": "nGia7EVez1Wy",
        "colab": {
          "base_uri": "https://localhost:8080/"
        },
        "outputId": "ada8fa10-a93c-4ad6-e247-0584678edd8b"
      },
      "execution_count": null,
      "outputs": [
        {
          "output_type": "execute_result",
          "data": {
            "text/plain": [
              "array([1, 7, 3, 1, 7])"
            ]
          },
          "metadata": {},
          "execution_count": 70
        }
      ]
    },
    {
      "cell_type": "markdown",
      "source": [
        "## Get Random elements from Laplace distribution"
      ],
      "metadata": {
        "id": "RTyCXeO4z1pO"
      }
    },
    {
      "cell_type": "code",
      "source": [
        "np.random.laplace(1.45, 15, 5)"
      ],
      "metadata": {
        "id": "saKd-Aruz2eO",
        "colab": {
          "base_uri": "https://localhost:8080/"
        },
        "outputId": "2923dd6a-3571-454a-aca8-8f9e95d37fd7"
      },
      "execution_count": null,
      "outputs": [
        {
          "output_type": "execute_result",
          "data": {
            "text/plain": [
              "array([-13.03296776,  -3.71963647,  -9.06787037,   8.78794363,\n",
              "         5.24218643])"
            ]
          },
          "metadata": {},
          "execution_count": 71
        }
      ]
    },
    {
      "cell_type": "markdown",
      "source": [
        "## Return a Matrix of random values from a uniform distribution"
      ],
      "metadata": {
        "id": "35HPBVpKz2rM"
      }
    },
    {
      "cell_type": "code",
      "source": [
        "np.matlib.rand((3, 4)) "
      ],
      "metadata": {
        "id": "jrC-y5yuz3db",
        "colab": {
          "base_uri": "https://localhost:8080/"
        },
        "outputId": "622f1c9c-be25-4d39-8ee6-c9e18ac16608"
      },
      "execution_count": null,
      "outputs": [
        {
          "output_type": "execute_result",
          "data": {
            "text/plain": [
              "matrix([[0.9291903 , 0.11556846, 0.28073701, 0.25211112],\n",
              "        [0.60762151, 0.67340886, 0.44446959, 0.61596086],\n",
              "        [0.93241624, 0.82637685, 0.23626355, 0.34539959]])"
            ]
          },
          "metadata": {},
          "execution_count": 72
        }
      ]
    },
    {
      "cell_type": "markdown",
      "source": [
        "## Return a Matrix of random values from a Gaussian distribution"
      ],
      "metadata": {
        "id": "qn56FewTz3rC"
      }
    },
    {
      "cell_type": "code",
      "source": [
        "mu, sigma = 0, 0.1\n",
        "np.random.normal(mu, sigma, 3)"
      ],
      "metadata": {
        "id": "reVmMp3Mz4Pd",
        "colab": {
          "base_uri": "https://localhost:8080/"
        },
        "outputId": "41c3c9b1-a890-44da-f02f-58f9338464d9"
      },
      "execution_count": null,
      "outputs": [
        {
          "output_type": "execute_result",
          "data": {
            "text/plain": [
              "array([ 0.05112192, -0.17828974,  0.00515969])"
            ]
          },
          "metadata": {},
          "execution_count": 73
        }
      ]
    },
    {
      "cell_type": "markdown",
      "source": [
        "# 6 - Questions on NumPy Sorting and Searching"
      ],
      "metadata": {
        "id": "eX1p7bNW3_v8"
      }
    },
    {
      "cell_type": "markdown",
      "source": [
        "## How to get the indices of the sorted array using NumPy in Python?"
      ],
      "metadata": {
        "id": "2R-BBaCw4Coo"
      }
    },
    {
      "cell_type": "code",
      "source": [
        "array = np.array([10, 52, 62, 16, 16, 54, 453])\n",
        "np.argsort(array)"
      ],
      "metadata": {
        "id": "RIJhMDU94Dxq",
        "colab": {
          "base_uri": "https://localhost:8080/"
        },
        "outputId": "6027c4e4-28a0-4754-e9fd-b160620bee17"
      },
      "execution_count": null,
      "outputs": [
        {
          "output_type": "execute_result",
          "data": {
            "text/plain": [
              "array([0, 3, 4, 1, 5, 2, 6])"
            ]
          },
          "metadata": {},
          "execution_count": 74
        }
      ]
    },
    {
      "cell_type": "markdown",
      "source": [
        "## Finding the k smallest values of a NumPy array"
      ],
      "metadata": {
        "id": "3opFf2Vb4EKN"
      }
    },
    {
      "cell_type": "code",
      "source": [
        "k = 3\n",
        "arr = np.array([23, 12, 1, 3, 4, 5, 6])\n",
        "arr = np.sort(arr)\n",
        "print(arr[:k])"
      ],
      "metadata": {
        "id": "vmUzjQMW4FDa",
        "colab": {
          "base_uri": "https://localhost:8080/"
        },
        "outputId": "ac1fe2b4-d29f-45ab-d1c6-21317ab494df"
      },
      "execution_count": null,
      "outputs": [
        {
          "output_type": "stream",
          "name": "stdout",
          "text": [
            "[1 3 4]\n"
          ]
        }
      ]
    },
    {
      "cell_type": "markdown",
      "source": [
        "## How to get the n-largest values of an array using NumPy?"
      ],
      "metadata": {
        "id": "VcojqHIu4FZ1"
      }
    },
    {
      "cell_type": "code",
      "source": [
        "k = 1\n",
        "arr = np.array([23, 12, 1, 3, 4, 5, 6])\n",
        "arr = np.sort(arr)\n",
        "print(arr[len(arr) - k:])"
      ],
      "metadata": {
        "id": "gk05b1oP4GeB",
        "colab": {
          "base_uri": "https://localhost:8080/"
        },
        "outputId": "39aae205-a255-4d15-f61f-94df803af03c"
      },
      "execution_count": null,
      "outputs": [
        {
          "output_type": "stream",
          "name": "stdout",
          "text": [
            "[23]\n"
          ]
        }
      ]
    },
    {
      "cell_type": "markdown",
      "source": [
        "## Sort the values in a matrix"
      ],
      "metadata": {
        "id": "mjPu4Xdn4GxD"
      }
    },
    {
      "cell_type": "code",
      "source": [
        "a = np.matrix([[1,4], [3,1]])\n",
        "a.sort(axis=0)\n",
        "a"
      ],
      "metadata": {
        "id": "Ovika_Kf4HzX",
        "colab": {
          "base_uri": "https://localhost:8080/"
        },
        "outputId": "95881e85-a33e-4ffa-8cd9-13323f73d9c7"
      },
      "execution_count": null,
      "outputs": [
        {
          "output_type": "execute_result",
          "data": {
            "text/plain": [
              "matrix([[1, 1],\n",
              "        [3, 4]])"
            ]
          },
          "metadata": {},
          "execution_count": 77
        }
      ]
    },
    {
      "cell_type": "markdown",
      "source": [
        "## Filter out integers from float numpy array"
      ],
      "metadata": {
        "id": "QrVTB29s4IGv"
      }
    },
    {
      "cell_type": "code",
      "source": [
        "ini_array = np.array([1.0, 1.2, 2.2, 2.0, 3.0, 2.0])\n",
        "ini_array[ini_array != ini_array.astype(int)]"
      ],
      "metadata": {
        "id": "g3n9g-Ec4JL7",
        "colab": {
          "base_uri": "https://localhost:8080/"
        },
        "outputId": "bc207f36-50d8-49f7-d61c-512cbe46def7"
      },
      "execution_count": null,
      "outputs": [
        {
          "output_type": "execute_result",
          "data": {
            "text/plain": [
              "array([1.2, 2.2])"
            ]
          },
          "metadata": {},
          "execution_count": 78
        }
      ]
    },
    {
      "cell_type": "markdown",
      "source": [
        "## Find the indices into a sorted array"
      ],
      "metadata": {
        "id": "ac6224Jj4JdK"
      }
    },
    {
      "cell_type": "code",
      "source": [
        "array = np.array([10, 52, 62, 16, 16, 54, 453])\n",
        "np.argsort(array)"
      ],
      "metadata": {
        "id": "zhwOh-vu4KQF",
        "colab": {
          "base_uri": "https://localhost:8080/"
        },
        "outputId": "acd5424f-2a22-45d3-ed32-dc38ca673388"
      },
      "execution_count": null,
      "outputs": [
        {
          "output_type": "execute_result",
          "data": {
            "text/plain": [
              "array([0, 3, 4, 1, 5, 2, 6])"
            ]
          },
          "metadata": {},
          "execution_count": 79
        }
      ]
    },
    {
      "cell_type": "markdown",
      "source": [
        "# 7 - Questions on NumPy Mathematics"
      ],
      "metadata": {
        "id": "vqdEtAsJ4LT_"
      }
    },
    {
      "cell_type": "markdown",
      "source": [
        "## How to get element-wise true division of an array using Numpy?"
      ],
      "metadata": {
        "id": "R5sbhcA55CeB"
      }
    },
    {
      "cell_type": "code",
      "source": [
        "x = np.arange(5)\n",
        "np.true_divide(x, 4)"
      ],
      "metadata": {
        "id": "ISdlHo395ExA",
        "colab": {
          "base_uri": "https://localhost:8080/"
        },
        "outputId": "e86b0a41-de9f-4341-d287-552902344050"
      },
      "execution_count": null,
      "outputs": [
        {
          "output_type": "execute_result",
          "data": {
            "text/plain": [
              "array([0.  , 0.25, 0.5 , 0.75, 1.  ])"
            ]
          },
          "metadata": {},
          "execution_count": 80
        }
      ]
    },
    {
      "cell_type": "markdown",
      "source": [
        "## How to calculate the element-wise absolute value of NumPy array?"
      ],
      "metadata": {
        "id": "XZricQdM5FSL"
      }
    },
    {
      "cell_type": "code",
      "source": [
        "array = np.array([1, -2, 3])\n",
        "np.absolute(array)"
      ],
      "metadata": {
        "id": "EY7imbl05Ga5",
        "colab": {
          "base_uri": "https://localhost:8080/"
        },
        "outputId": "c58f9ba2-c279-40a7-e2ad-f61aa17cc67a"
      },
      "execution_count": null,
      "outputs": [
        {
          "output_type": "execute_result",
          "data": {
            "text/plain": [
              "array([1, 2, 3])"
            ]
          },
          "metadata": {},
          "execution_count": 81
        }
      ]
    },
    {
      "cell_type": "markdown",
      "source": [
        "## Compute the negative of the NumPy array"
      ],
      "metadata": {
        "id": "XHeU4xB75G4Y"
      }
    },
    {
      "cell_type": "code",
      "source": [
        "np.negative(10)"
      ],
      "metadata": {
        "id": "UizFTBZx5H4Y",
        "colab": {
          "base_uri": "https://localhost:8080/"
        },
        "outputId": "688a59c9-eba8-43e4-c42c-6ea099b7ff22"
      },
      "execution_count": null,
      "outputs": [
        {
          "output_type": "execute_result",
          "data": {
            "text/plain": [
              "-10"
            ]
          },
          "metadata": {},
          "execution_count": 82
        }
      ]
    },
    {
      "cell_type": "markdown",
      "source": [
        "## Multiply 2d numpy array corresponding to 1d array"
      ],
      "metadata": {
        "id": "5fFltpVW5ILf"
      }
    },
    {
      "cell_type": "code",
      "source": [
        "array1 = np.array([[1, 2, 3], [2, 4, 5], [1, 2, 3]])\n",
        "array2 = np.array([0, 2, 3])\n",
        "\n",
        "array1 * array2[:, np.newaxis]"
      ],
      "metadata": {
        "id": "FSx--gdb5JGj",
        "colab": {
          "base_uri": "https://localhost:8080/"
        },
        "outputId": "ddda7118-7486-4dfe-a7d7-5fbcd4305101"
      },
      "execution_count": null,
      "outputs": [
        {
          "output_type": "execute_result",
          "data": {
            "text/plain": [
              "array([[ 0,  0,  0],\n",
              "       [ 4,  8, 10],\n",
              "       [ 3,  6,  9]])"
            ]
          },
          "metadata": {},
          "execution_count": 83
        }
      ]
    },
    {
      "cell_type": "markdown",
      "source": [
        "## Computes the inner product of two arrays"
      ],
      "metadata": {
        "id": "Z5xKlSp15JZ-"
      }
    },
    {
      "cell_type": "code",
      "source": [
        "array1 = np.array([1, 2])\n",
        "array2 = np.array([11, 12])\n",
        "np.dot(array1, array2)"
      ],
      "metadata": {
        "id": "6txt7fUF5KOi",
        "colab": {
          "base_uri": "https://localhost:8080/"
        },
        "outputId": "8e284d21-2c7e-4079-d7a0-bfdcccbd2643"
      },
      "execution_count": null,
      "outputs": [
        {
          "output_type": "execute_result",
          "data": {
            "text/plain": [
              "35"
            ]
          },
          "metadata": {},
          "execution_count": 84
        }
      ]
    },
    {
      "cell_type": "markdown",
      "source": [
        "## Compute the nth percentile of the NumPy array"
      ],
      "metadata": {
        "id": "8HYHHZ9r8Deb"
      }
    },
    {
      "cell_type": "code",
      "source": [
        "arr = [20, 2, 7, 1, 34]\n",
        "print(np.percentile(arr, 25))\n",
        "print(np.percentile(arr, 50))\n",
        "print(np.percentile(arr, 75))"
      ],
      "metadata": {
        "id": "lUJFO3548Ib8",
        "colab": {
          "base_uri": "https://localhost:8080/"
        },
        "outputId": "65c8932b-a6e4-4d7f-c6d4-32375316ae4a"
      },
      "execution_count": null,
      "outputs": [
        {
          "output_type": "stream",
          "name": "stdout",
          "text": [
            "2.0\n",
            "7.0\n",
            "20.0\n"
          ]
        }
      ]
    },
    {
      "cell_type": "markdown",
      "source": [
        "## Calculate the n-th order discrete difference along the given axis"
      ],
      "metadata": {
        "id": "tHIKdZTw8JFq"
      }
    },
    {
      "cell_type": "code",
      "source": [
        "arr = np.array([1, 3, 4, 7, 9])\n",
        "  \n",
        "print(\"Input array  : \", arr)\n",
        "print(\"First order difference  : \", np.diff(arr))\n",
        "print(\"Second order difference : \", np.diff(arr, n = 2))\n",
        "print(\"Third order difference  : \", np.diff(arr, n = 3))"
      ],
      "metadata": {
        "id": "2XWyV4je8KTT",
        "colab": {
          "base_uri": "https://localhost:8080/"
        },
        "outputId": "c5f178b3-1321-43a1-b4a4-baccbbedbb1b"
      },
      "execution_count": null,
      "outputs": [
        {
          "output_type": "stream",
          "name": "stdout",
          "text": [
            "Input array  :  [1 3 4 7 9]\n",
            "First order difference  :  [2 1 3 2]\n",
            "Second order difference :  [-1  2 -1]\n",
            "Third order difference  :  [ 3 -3]\n"
          ]
        }
      ]
    },
    {
      "cell_type": "markdown",
      "source": [
        "## Calculate the sum of all columns in a 2D NumPy array"
      ],
      "metadata": {
        "id": "DkQtDjnb8K9c"
      }
    },
    {
      "cell_type": "code",
      "source": [
        "array = np.array([[1, 2, 3], [4, 5, 6], [7, 8, 9], [10, 11, 12]])\n",
        "np.sum(array, axis = 0)"
      ],
      "metadata": {
        "id": "Ke1r0JVV8L_E",
        "colab": {
          "base_uri": "https://localhost:8080/"
        },
        "outputId": "7bcc794d-083b-4ee1-83fd-a4e12266803b"
      },
      "execution_count": null,
      "outputs": [
        {
          "output_type": "execute_result",
          "data": {
            "text/plain": [
              "array([22, 26, 30])"
            ]
          },
          "metadata": {},
          "execution_count": 87
        }
      ]
    },
    {
      "cell_type": "markdown",
      "source": [
        "## Calculate average values of two given NumPy arrays"
      ],
      "metadata": {
        "id": "xLKP17vN8MQY"
      }
    },
    {
      "cell_type": "code",
      "source": [
        "arr1 = np.array([3, 4])\n",
        "arr2 = np.array([1, 0])\n",
        "  \n",
        "(arr1 + arr2) / 2"
      ],
      "metadata": {
        "id": "SlY-uWWz8NT0",
        "colab": {
          "base_uri": "https://localhost:8080/"
        },
        "outputId": "29fb89c0-2cac-4f07-ef5f-4ae5350d323a"
      },
      "execution_count": null,
      "outputs": [
        {
          "output_type": "execute_result",
          "data": {
            "text/plain": [
              "array([2., 2.])"
            ]
          },
          "metadata": {},
          "execution_count": 88
        }
      ]
    },
    {
      "cell_type": "markdown",
      "source": [
        "## How to compute numerical negative value for all elements in a given NumPy array?"
      ],
      "metadata": {
        "id": "iTl7WQpa8Nie"
      }
    },
    {
      "cell_type": "code",
      "source": [
        "array = np.array([-1, -2, -3, 1, 2, 3, 0])\n",
        "np.negative(array)"
      ],
      "metadata": {
        "id": "9Kl4wc5-8Oq8",
        "colab": {
          "base_uri": "https://localhost:8080/"
        },
        "outputId": "588d3e06-2288-42ff-cf62-f8856bf1753b"
      },
      "execution_count": null,
      "outputs": [
        {
          "output_type": "execute_result",
          "data": {
            "text/plain": [
              "array([ 1,  2,  3, -1, -2, -3,  0])"
            ]
          },
          "metadata": {},
          "execution_count": 89
        }
      ]
    },
    {
      "cell_type": "markdown",
      "source": [
        "## How to get the floor, ceiling and truncated values of the elements of a numpy array?"
      ],
      "metadata": {
        "id": "gvQIWtdA8O9C"
      }
    },
    {
      "cell_type": "code",
      "source": [
        "array = np.arange(12)\n",
        "print(\"Floor: \", np.floor(array))\n",
        "print(\"Ceil: \", np.ceil(array))\n",
        "print(\"Truncate: \", np.trunc(array))"
      ],
      "metadata": {
        "id": "xUi5vzR58P63",
        "colab": {
          "base_uri": "https://localhost:8080/"
        },
        "outputId": "402a1338-7863-46ed-c2fd-07a27cc83ff2"
      },
      "execution_count": null,
      "outputs": [
        {
          "output_type": "stream",
          "name": "stdout",
          "text": [
            "Floor:  [ 0.  1.  2.  3.  4.  5.  6.  7.  8.  9. 10. 11.]\n",
            "Ceil:  [ 0.  1.  2.  3.  4.  5.  6.  7.  8.  9. 10. 11.]\n",
            "Truncate:  [ 0.  1.  2.  3.  4.  5.  6.  7.  8.  9. 10. 11.]\n"
          ]
        }
      ]
    },
    {
      "cell_type": "markdown",
      "source": [
        "## How to round elements of the NumPy array to the nearest integer?"
      ],
      "metadata": {
        "id": "2IF0ON0C8QJU"
      }
    },
    {
      "cell_type": "code",
      "source": [
        "arr = np.array([50.8, 120.3, 200.7, 320.1, 450.4, 500.6])\n",
        "np.rint(arr)"
      ],
      "metadata": {
        "id": "D8DwCx9-8RDc",
        "colab": {
          "base_uri": "https://localhost:8080/"
        },
        "outputId": "d04ad504-18bd-47ff-d9e8-e257eff6b2a0"
      },
      "execution_count": null,
      "outputs": [
        {
          "output_type": "execute_result",
          "data": {
            "text/plain": [
              "array([ 51., 120., 201., 320., 450., 501.])"
            ]
          },
          "metadata": {},
          "execution_count": 91
        }
      ]
    },
    {
      "cell_type": "markdown",
      "source": [
        "## Find the round off the values of the given matrix"
      ],
      "metadata": {
        "id": "dddXxADR8RZA"
      }
    },
    {
      "cell_type": "code",
      "source": [
        "matrix = np.matrix(np.array([[1.5, 2.7, 3.9], [3.2, 4.3, 5.1]]))\n",
        "matrix.round()"
      ],
      "metadata": {
        "id": "TWU5Ni5u8SQG",
        "colab": {
          "base_uri": "https://localhost:8080/"
        },
        "outputId": "4630d56c-e493-40a4-f6b3-cb3ba2991a66"
      },
      "execution_count": null,
      "outputs": [
        {
          "output_type": "execute_result",
          "data": {
            "text/plain": [
              "matrix([[2., 3., 4.],\n",
              "        [3., 4., 5.]])"
            ]
          },
          "metadata": {},
          "execution_count": 92
        }
      ]
    },
    {
      "cell_type": "markdown",
      "source": [
        "## Determine the positive square-root of an array"
      ],
      "metadata": {
        "id": "3mMHC2Yg8Sef"
      }
    },
    {
      "cell_type": "code",
      "source": [
        "matrix = np.matrix(np.array([[1, 4, 9], [16, 25, 36]]))\n",
        "np.sqrt(matrix)"
      ],
      "metadata": {
        "id": "kYtTw3ae8TYD",
        "colab": {
          "base_uri": "https://localhost:8080/"
        },
        "outputId": "0f87c599-8f14-41b0-eed9-feb5fa16c4e3"
      },
      "execution_count": null,
      "outputs": [
        {
          "output_type": "execute_result",
          "data": {
            "text/plain": [
              "matrix([[1., 2., 3.],\n",
              "        [4., 5., 6.]])"
            ]
          },
          "metadata": {},
          "execution_count": 93
        }
      ]
    },
    {
      "cell_type": "markdown",
      "source": [
        "## Evaluate Einstein’s summation convention of two multidimensional NumPy arrays"
      ],
      "metadata": {
        "id": "MFnLQpIu8Tm0"
      }
    },
    {
      "cell_type": "code",
      "source": [
        "matrix1 = np.matrix([[1, 2], [0, 2]])\n",
        "matrix2 = np.matrix([[0, 1], [3, 4]])\n",
        "\n",
        "np.einsum(\"mk,kn\", matrix1, matrix2)"
      ],
      "metadata": {
        "id": "EtVOlW4C8UOr",
        "colab": {
          "base_uri": "https://localhost:8080/"
        },
        "outputId": "9836031c-4199-4e6d-da6f-5c024ec6f43d"
      },
      "execution_count": null,
      "outputs": [
        {
          "output_type": "execute_result",
          "data": {
            "text/plain": [
              "array([[6, 9],\n",
              "       [6, 8]])"
            ]
          },
          "metadata": {},
          "execution_count": 94
        }
      ]
    },
    {
      "cell_type": "markdown",
      "source": [
        "# 8 - Questions on NumPy Statistics"
      ],
      "metadata": {
        "id": "wQCaCtfo8Uhy"
      }
    },
    {
      "cell_type": "markdown",
      "source": [
        "## Compute the median of the flattened NumPy array"
      ],
      "metadata": {
        "id": "6Fx6N6Lp8aR4"
      }
    },
    {
      "cell_type": "code",
      "source": [
        "array = np.array([1, 2, 3, 4, 5, 6, 7])\n",
        "np.median(array)"
      ],
      "metadata": {
        "id": "lNMWBnVN8dI2",
        "colab": {
          "base_uri": "https://localhost:8080/"
        },
        "outputId": "8b561d4f-c9e9-44f6-82f7-93312d059991"
      },
      "execution_count": null,
      "outputs": [
        {
          "output_type": "execute_result",
          "data": {
            "text/plain": [
              "4.0"
            ]
          },
          "metadata": {},
          "execution_count": 95
        }
      ]
    },
    {
      "cell_type": "markdown",
      "source": [
        "## Find Mean of a List of Numpy Array"
      ],
      "metadata": {
        "id": "6KDOTHk18dx6"
      }
    },
    {
      "cell_type": "code",
      "source": [
        "array_list = [np.array([1, 2, 3]),\n",
        "         np.array([4, 5, 6]),\n",
        "         np.array([7, 8, 9])]\n",
        "\n",
        "output = []\n",
        "\n",
        "for i in range(len(array_list)):\n",
        "   output.append(np.mean(array_list[i]))\n",
        "\n",
        "output"
      ],
      "metadata": {
        "id": "466ylv2t8e5z",
        "colab": {
          "base_uri": "https://localhost:8080/"
        },
        "outputId": "ce6ee037-3690-4be1-baa5-cbdd8c6853d5"
      },
      "execution_count": null,
      "outputs": [
        {
          "output_type": "execute_result",
          "data": {
            "text/plain": [
              "[2.0, 5.0, 8.0]"
            ]
          },
          "metadata": {},
          "execution_count": 96
        }
      ]
    },
    {
      "cell_type": "markdown",
      "source": [
        "\n",
        "## Calculate the mean of array ignoring the NaN value"
      ],
      "metadata": {
        "id": "heBsx5lK8fYx"
      }
    },
    {
      "cell_type": "code",
      "source": [
        "arr = np.array([[20, 15, 37], [47, 13, np.nan]])\n",
        "np.nanmean(arr)"
      ],
      "metadata": {
        "id": "jrAPHDaU8gh2",
        "colab": {
          "base_uri": "https://localhost:8080/"
        },
        "outputId": "616659d6-3409-4aa2-c15e-0b23f0677d8e"
      },
      "execution_count": null,
      "outputs": [
        {
          "output_type": "execute_result",
          "data": {
            "text/plain": [
              "26.4"
            ]
          },
          "metadata": {},
          "execution_count": 97
        }
      ]
    },
    {
      "cell_type": "markdown",
      "source": [
        "## Get the mean value from given matrix"
      ],
      "metadata": {
        "id": "Y19t58No8iNi"
      }
    },
    {
      "cell_type": "code",
      "source": [
        "x = np.matrix([[1, 2, 3, 4],[5, 6, 7, 8], [9, 10, 11, 12],[13, 14, 15, 16]])\n",
        "x.mean()"
      ],
      "metadata": {
        "id": "IbRMWrYa8jqR",
        "colab": {
          "base_uri": "https://localhost:8080/"
        },
        "outputId": "808abadb-2c33-4e71-86cb-ff6aba55ec29"
      },
      "execution_count": null,
      "outputs": [
        {
          "output_type": "execute_result",
          "data": {
            "text/plain": [
              "8.5"
            ]
          },
          "metadata": {},
          "execution_count": 98
        }
      ]
    },
    {
      "cell_type": "markdown",
      "source": [
        "## Compute the variance of the NumPy array"
      ],
      "metadata": {
        "id": "NBUPUOQq8kBC"
      }
    },
    {
      "cell_type": "code",
      "source": [
        "arr = np.array([20, 2, 7, 1, 34])\n",
        "np.var(arr)"
      ],
      "metadata": {
        "id": "bIgMN7He8lBC",
        "colab": {
          "base_uri": "https://localhost:8080/"
        },
        "outputId": "fbdcd292-83b3-4ade-ab31-bbef2d7babf2"
      },
      "execution_count": null,
      "outputs": [
        {
          "output_type": "execute_result",
          "data": {
            "text/plain": [
              "158.16"
            ]
          },
          "metadata": {},
          "execution_count": 99
        }
      ]
    },
    {
      "cell_type": "markdown",
      "source": [
        "## Compute the standard deviation of the NumPy array"
      ],
      "metadata": {
        "id": "fikhDged8lOF"
      }
    },
    {
      "cell_type": "code",
      "source": [
        "arr = np.array([20, 2, 7, 1, 34])\n",
        "np.std(arr)"
      ],
      "metadata": {
        "id": "JxdgTc5a8mL1",
        "colab": {
          "base_uri": "https://localhost:8080/"
        },
        "outputId": "1a3cb05e-2dc9-44c6-d6eb-58957ab7bf50"
      },
      "execution_count": null,
      "outputs": [
        {
          "output_type": "execute_result",
          "data": {
            "text/plain": [
              "12.576167937809991"
            ]
          },
          "metadata": {},
          "execution_count": 100
        }
      ]
    },
    {
      "cell_type": "markdown",
      "source": [
        "## Compute pearson product-moment correlation coefficients of two given NumPy arrays"
      ],
      "metadata": {
        "id": "bRLGsmkR8mX7"
      }
    },
    {
      "cell_type": "code",
      "source": [
        "array1 = np.array([0, 1, 2])\n",
        "array2 = np.array([3, 4, 5])\n",
        "\n",
        "np.corrcoef(array1, array2)"
      ],
      "metadata": {
        "id": "wzl9rpBD8nOf",
        "colab": {
          "base_uri": "https://localhost:8080/"
        },
        "outputId": "111f494f-4b51-4015-ba22-916387bdda5d"
      },
      "execution_count": null,
      "outputs": [
        {
          "output_type": "execute_result",
          "data": {
            "text/plain": [
              "array([[1., 1.],\n",
              "       [1., 1.]])"
            ]
          },
          "metadata": {},
          "execution_count": 101
        }
      ]
    },
    {
      "cell_type": "markdown",
      "source": [
        "## Calculate the mean across dimension in a 2D NumPy array"
      ],
      "metadata": {
        "id": "OjwoqAbL8nc6"
      }
    },
    {
      "cell_type": "code",
      "source": [
        "arr = np.array([[1, 2, 3], [4, 5, 6], [7, 8, 9]])\n",
        "print(\"Rows: \", np.mean(arr, axis=0))\n",
        "print(\"Columns: \", np.mean(arr, axis=1))"
      ],
      "metadata": {
        "id": "924x15uU8pIr",
        "colab": {
          "base_uri": "https://localhost:8080/"
        },
        "outputId": "f24df0c6-2b39-47dd-c5a8-36e925b56a7f"
      },
      "execution_count": null,
      "outputs": [
        {
          "output_type": "stream",
          "name": "stdout",
          "text": [
            "Rows:  [4. 5. 6.]\n",
            "Columns:  [2. 5. 8.]\n"
          ]
        }
      ]
    },
    {
      "cell_type": "markdown",
      "source": [
        "## Calculate the average, variance and standard deviation in Python using NumPy"
      ],
      "metadata": {
        "id": "n_KMBWoh8pyP"
      }
    },
    {
      "cell_type": "code",
      "source": [
        "lista = [2, 40, 2, 502, 177, 7, 9]\n",
        "print(np.average(lista))\n",
        "print(np.var(lista))\n",
        "print(np.std(lista))"
      ],
      "metadata": {
        "id": "s5Fw8Z2d8q5X",
        "colab": {
          "base_uri": "https://localhost:8080/"
        },
        "outputId": "e1959dfa-8944-4933-a23c-f4247d9c6567"
      },
      "execution_count": null,
      "outputs": [
        {
          "output_type": "stream",
          "name": "stdout",
          "text": [
            "105.57142857142857\n",
            "29579.10204081633\n",
            "171.98576115718512\n"
          ]
        }
      ]
    },
    {
      "cell_type": "markdown",
      "source": [
        "## Describe a NumPy Array in Python"
      ],
      "metadata": {
        "id": "Mu3BmMZa8rIc"
      }
    },
    {
      "cell_type": "code",
      "source": [
        " \n",
        "arr = np.array([4, 5, 8, 5, 6, 4, 9, 2, 4, 3, 6])   \n",
        " \n",
        "mean = np.mean(arr)\n",
        "median = np.median(arr)\n",
        " \n",
        "min = np.amin(arr)\n",
        "max = np.amax(arr)\n",
        "range = np.ptp(arr)\n",
        "variance = np.var(arr)\n",
        "sd = np.std(arr)\n",
        " \n",
        "print(\"Measures of Central Tendency\")\n",
        "print(\"Mean =\", mean)\n",
        "print(\"Median =\", median)\n",
        "print(\"Measures of Dispersion\")\n",
        "print(\"Minimum =\", min)\n",
        "print(\"Maximum =\", max)\n",
        "print(\"Range =\", range)\n",
        "print(\"Variance =\", variance)\n",
        "print(\"Standard Deviation =\", sd)"
      ],
      "metadata": {
        "id": "9NKk9PwH8rsw",
        "colab": {
          "base_uri": "https://localhost:8080/"
        },
        "outputId": "0a497950-048d-4044-cbb2-a2c53f2c2f3a"
      },
      "execution_count": null,
      "outputs": [
        {
          "output_type": "stream",
          "name": "stdout",
          "text": [
            "Measures of Central Tendency\n",
            "Mean = 5.090909090909091\n",
            "Median = 5.0\n",
            "Measures of Dispersion\n",
            "Minimum = 2\n",
            "Maximum = 9\n",
            "Range = 7\n",
            "Variance = 3.9008264462809916\n",
            "Standard Deviation = 1.9750509984000393\n"
          ]
        }
      ]
    },
    {
      "cell_type": "markdown",
      "source": [
        "# 9 - Questions on Polynomial"
      ],
      "metadata": {
        "id": "jFn9b5Eq8sLp"
      }
    },
    {
      "cell_type": "markdown",
      "source": [
        "## Define a polynomial function"
      ],
      "metadata": {
        "id": "wUvQHMwz9BTO"
      }
    },
    {
      "cell_type": "code",
      "source": [
        "p1 = np.poly1d([1, 2])\n",
        "p2 = np.poly1d([4, 9, 5, 4])\n",
        " \n",
        "print (\"P1 : \", p1)\n",
        "print (\"\\n p2 : \\n\", p2)\n",
        " \n",
        "print (\"\\n\\np1 at x = 2 : \", p1(2))\n",
        "print (\"p2 at x = 2 : \", p2(2))\n",
        "\n",
        "print (\"\\n\\nRoots of P1 : \", p1.r)\n",
        "print (\"Roots of P2 : \", p2.r)\n",
        " \n",
        "print (\"\\n\\nCoefficients of P1 : \", p1.c)\n",
        "print (\"Coefficients of P2 : \", p2.coeffs)\n",
        " \n",
        "print (\"\\n\\nOrder / Degree of P1 : \", p1.o)\n",
        "print (\"Order / Degree of P2 : \", p2.order)"
      ],
      "metadata": {
        "id": "Q3jnMqcU9Dmk",
        "colab": {
          "base_uri": "https://localhost:8080/"
        },
        "outputId": "1a93df36-1531-4529-b8e9-75efdd0c8928"
      },
      "execution_count": null,
      "outputs": [
        {
          "output_type": "stream",
          "name": "stdout",
          "text": [
            "P1 :   \n",
            "1 x + 2\n",
            "\n",
            " p2 : \n",
            "    3     2\n",
            "4 x + 9 x + 5 x + 4\n",
            "\n",
            "\n",
            "p1 at x = 2 :  4\n",
            "p2 at x = 2 :  82\n",
            "\n",
            "\n",
            "Roots of P1 :  [-2.]\n",
            "Roots of P2 :  [-1.86738371+0.j         -0.19130814+0.70633545j -0.19130814-0.70633545j]\n",
            "\n",
            "\n",
            "Coefficients of P1 :  [1 2]\n",
            "Coefficients of P2 :  [4 9 5 4]\n",
            "\n",
            "\n",
            "Order / Degree of P1 :  1\n",
            "Order / Degree of P2 :  3\n"
          ]
        }
      ]
    },
    {
      "cell_type": "markdown",
      "source": [
        "## How to add one polynomial to another using NumPy in Python?"
      ],
      "metadata": {
        "id": "QdteIoWk9EJn"
      }
    },
    {
      "cell_type": "code",
      "source": [
        "px = (5,-2,5)\n",
        "  \n",
        "qx = (2,-5,2)\n",
        "  \n",
        "np.polynomial.polynomial.polyadd(px,qx)"
      ],
      "metadata": {
        "id": "B_2BinMv9FD_",
        "colab": {
          "base_uri": "https://localhost:8080/"
        },
        "outputId": "ec56947c-9260-49a8-f5fc-ea43cdd09812"
      },
      "execution_count": null,
      "outputs": [
        {
          "output_type": "execute_result",
          "data": {
            "text/plain": [
              "array([ 7., -7.,  7.])"
            ]
          },
          "metadata": {},
          "execution_count": 106
        }
      ]
    },
    {
      "cell_type": "markdown",
      "source": [
        "## How to subtract one polynomial to another using NumPy in Python?"
      ],
      "metadata": {
        "id": "IhXf1FXG9FVR"
      }
    },
    {
      "cell_type": "code",
      "source": [
        "px = (5,-2,5)\n",
        "  \n",
        "qx = (2,-5,2)\n",
        "  \n",
        "np.polynomial.polynomial.polysub(px,qx)"
      ],
      "metadata": {
        "id": "0DnpvOYs9G9R",
        "colab": {
          "base_uri": "https://localhost:8080/"
        },
        "outputId": "f94e55f6-32fb-407f-84e4-8eb645ce2db6"
      },
      "execution_count": null,
      "outputs": [
        {
          "output_type": "execute_result",
          "data": {
            "text/plain": [
              "array([3., 3., 3.])"
            ]
          },
          "metadata": {},
          "execution_count": 107
        }
      ]
    },
    {
      "cell_type": "markdown",
      "source": [
        "## How to multiply a polynomial to another using NumPy in Python?"
      ],
      "metadata": {
        "id": "qMYlrWLn9HLG"
      }
    },
    {
      "cell_type": "code",
      "source": [
        "px = (5, -2, 5)\n",
        "\n",
        "qx = (2, -5, 2)\n",
        "  \n",
        "np.polynomial.polynomial.polymul(px, qx)"
      ],
      "metadata": {
        "id": "0_j8koau9IiF",
        "colab": {
          "base_uri": "https://localhost:8080/"
        },
        "outputId": "c70bad54-f861-436a-f859-7965222c19cc"
      },
      "execution_count": null,
      "outputs": [
        {
          "output_type": "execute_result",
          "data": {
            "text/plain": [
              "array([ 10., -29.,  30., -29.,  10.])"
            ]
          },
          "metadata": {},
          "execution_count": 108
        }
      ]
    },
    {
      "cell_type": "markdown",
      "source": [
        "## How to divide a polynomial to another using NumPy in Python?"
      ],
      "metadata": {
        "id": "A9JVYEXz9I4E"
      }
    },
    {
      "cell_type": "code",
      "source": [
        "px = (5, -2, 5)\n",
        "  \n",
        "gx = (2, 1, 0)\n",
        "\n",
        "qx, rx = np.polynomial.polynomial.polydiv(px, gx)\n",
        "  \n",
        "#Quotiient\n",
        "print(qx)\n",
        "  \n",
        "#Remainder\n",
        "print(rx)"
      ],
      "metadata": {
        "id": "JhhL4oEx9Js_",
        "colab": {
          "base_uri": "https://localhost:8080/"
        },
        "outputId": "f9ed30c0-7f7c-42a0-90e9-c48c10c5c048"
      },
      "execution_count": null,
      "outputs": [
        {
          "output_type": "stream",
          "name": "stdout",
          "text": [
            "[-12.   5.]\n",
            "[29.]\n"
          ]
        }
      ]
    },
    {
      "cell_type": "markdown",
      "source": [
        "## Find the roots of the polynomials using NumPy"
      ],
      "metadata": {
        "id": "suxwwadq9J61"
      }
    },
    {
      "cell_type": "code",
      "source": [
        "p = np.poly1d([1, 2, 1])\n",
        "p.r"
      ],
      "metadata": {
        "id": "RLY8D3r49Kt5",
        "colab": {
          "base_uri": "https://localhost:8080/"
        },
        "outputId": "2652baa4-a201-402c-92ec-441560a8d15a"
      },
      "execution_count": null,
      "outputs": [
        {
          "output_type": "execute_result",
          "data": {
            "text/plain": [
              "array([-1., -1.])"
            ]
          },
          "metadata": {},
          "execution_count": 110
        }
      ]
    },
    {
      "cell_type": "markdown",
      "source": [
        "## Evaluate a 2-D polynomial series on the Cartesian product"
      ],
      "metadata": {
        "id": "2OdwZme59K7Q"
      }
    },
    {
      "cell_type": "code",
      "source": [
        "c = np.array([[1, 3, 5], [2, 4, 6]]) \n",
        "np.polynomial.polynomial.polygrid2d([7, 9], [8, 10], c)"
      ],
      "metadata": {
        "id": "lVeLZfIC9MAu",
        "colab": {
          "base_uri": "https://localhost:8080/"
        },
        "outputId": "4d93cb1e-5664-4f3d-f320-6b3ba5c26161"
      },
      "execution_count": null,
      "outputs": [
        {
          "output_type": "execute_result",
          "data": {
            "text/plain": [
              "array([[3271., 5025.],\n",
              "       [4107., 6309.]])"
            ]
          },
          "metadata": {},
          "execution_count": 111
        }
      ]
    },
    {
      "cell_type": "markdown",
      "source": [
        "## Evaluate a 3-D polynomial series on the Cartesian product"
      ],
      "metadata": {
        "id": "BDnCHgyA9MOa"
      }
    },
    {
      "cell_type": "code",
      "source": [
        "c = np.array([[1, 3, 5], [2, 4, 6], [10, 11, 12]]) \n",
        "  \n",
        "np.polynomial.polynomial.polygrid3d([7, 9], [8, 10], [5, 6], c)"
      ],
      "metadata": {
        "id": "8usFkDDt9Mtc",
        "colab": {
          "base_uri": "https://localhost:8080/"
        },
        "outputId": "16ef5b5f-4f0d-4428-e826-51e898fa47df"
      },
      "execution_count": null,
      "outputs": [
        {
          "output_type": "execute_result",
          "data": {
            "text/plain": [
              "array([[416970., 491223.],\n",
              "       [635850., 749079.]])"
            ]
          },
          "metadata": {},
          "execution_count": 112
        }
      ]
    },
    {
      "cell_type": "markdown",
      "source": [
        "# 10 - Questions on NumPy Strings"
      ],
      "metadata": {
        "id": "cd6uH7059NcC"
      }
    },
    {
      "cell_type": "markdown",
      "source": [
        "## Repeat all the elements of a NumPy array of strings"
      ],
      "metadata": {
        "id": "S838ykNw9Prz"
      }
    },
    {
      "cell_type": "code",
      "source": [
        "arr = np.array(['Akash', 'Rohit', 'Ayush', 'Dhruv', 'Radhika'], dtype = str)\n",
        "  \n",
        "np.char.multiply(arr, 3)"
      ],
      "metadata": {
        "id": "6obqp5739Sxl",
        "colab": {
          "base_uri": "https://localhost:8080/"
        },
        "outputId": "1943eab9-7c33-45be-fed3-7e271ad4cdad"
      },
      "execution_count": null,
      "outputs": [
        {
          "output_type": "execute_result",
          "data": {
            "text/plain": [
              "array(['AkashAkashAkash', 'RohitRohitRohit', 'AyushAyushAyush',\n",
              "       'DhruvDhruvDhruv', 'RadhikaRadhikaRadhika'], dtype='<U21')"
            ]
          },
          "metadata": {},
          "execution_count": 113
        }
      ]
    },
    {
      "cell_type": "markdown",
      "source": [
        "## How to split the element of a given NumPy array with spaces?"
      ],
      "metadata": {
        "id": "sVYRIDiH9TQB"
      }
    },
    {
      "cell_type": "code",
      "source": [
        "array = np.array(['PHP C# Python C Java C++'], dtype=str)\n",
        "np.char.split(array)"
      ],
      "metadata": {
        "id": "qISkjGBU9USD",
        "colab": {
          "base_uri": "https://localhost:8080/"
        },
        "outputId": "1f3259ef-2fef-4170-be8c-c645b32772d3"
      },
      "execution_count": null,
      "outputs": [
        {
          "output_type": "execute_result",
          "data": {
            "text/plain": [
              "array([list(['PHP', 'C#', 'Python', 'C', 'Java', 'C++'])], dtype=object)"
            ]
          },
          "metadata": {},
          "execution_count": 114
        }
      ]
    },
    {
      "cell_type": "markdown",
      "source": [
        "## How to insert a space between characters of all the elements of a given NumPy array?"
      ],
      "metadata": {
        "id": "klTBafRb9Ugy"
      }
    },
    {
      "cell_type": "code",
      "source": [
        "x = np.array([\"geeks\", \"for\", \"geeks\"], dtype=str)\n",
        "np.char.join(\" \", x)"
      ],
      "metadata": {
        "id": "RyLNEQz79VjH",
        "colab": {
          "base_uri": "https://localhost:8080/"
        },
        "outputId": "9918355d-67ff-4ae3-d1a5-2b4174b32c7e"
      },
      "execution_count": null,
      "outputs": [
        {
          "output_type": "execute_result",
          "data": {
            "text/plain": [
              "array(['g e e k s', 'f o r', 'g e e k s'], dtype='<U9')"
            ]
          },
          "metadata": {},
          "execution_count": 115
        }
      ]
    },
    {
      "cell_type": "markdown",
      "source": [
        "## Find the length of each string element in the Numpy array"
      ],
      "metadata": {
        "id": "wbLXA8hj9Vyg"
      }
    },
    {
      "cell_type": "code",
      "source": [
        "arr = np.array(['New York', 'Lisbon', 'Beijing', 'Quebec'])\n",
        "[len(i) for i in arr]"
      ],
      "metadata": {
        "id": "dscBRj-u9Wwo",
        "colab": {
          "base_uri": "https://localhost:8080/"
        },
        "outputId": "f2a25599-dae0-4e02-d84e-00de13f8e502"
      },
      "execution_count": null,
      "outputs": [
        {
          "output_type": "execute_result",
          "data": {
            "text/plain": [
              "[8, 6, 7, 6]"
            ]
          },
          "metadata": {},
          "execution_count": 116
        }
      ]
    },
    {
      "cell_type": "markdown",
      "source": [
        "## Swap the case of an array of string"
      ],
      "metadata": {
        "id": "lTtSjGKe9W9V"
      }
    },
    {
      "cell_type": "code",
      "source": [
        "arr = np.array(['P4Q R', '4q Rp', 'Q Rp4', 'rp4q'])\n",
        "np.char.swapcase(arr)"
      ],
      "metadata": {
        "id": "PuQHEZXB9X4k",
        "colab": {
          "base_uri": "https://localhost:8080/"
        },
        "outputId": "655367d2-0f86-4606-b1b3-0dc20da6ffef"
      },
      "execution_count": null,
      "outputs": [
        {
          "output_type": "execute_result",
          "data": {
            "text/plain": [
              "array(['p4q r', '4Q rP', 'q rP4', 'RP4Q'], dtype='<U5')"
            ]
          },
          "metadata": {},
          "execution_count": 117
        }
      ]
    },
    {
      "cell_type": "markdown",
      "source": [
        "## Change the case to uppercase of elements of an array"
      ],
      "metadata": {
        "id": "9EA0QHaE9YEl"
      }
    },
    {
      "cell_type": "code",
      "source": [
        "arr = np.array(['teste', 'ola', 'mundo'])\n",
        "np.char.upper(arr)"
      ],
      "metadata": {
        "id": "HydNi3Uc9Y-9",
        "colab": {
          "base_uri": "https://localhost:8080/"
        },
        "outputId": "c6a5aa4e-d05c-4ee2-bf36-27eba0dcbc27"
      },
      "execution_count": null,
      "outputs": [
        {
          "output_type": "execute_result",
          "data": {
            "text/plain": [
              "array(['TESTE', 'OLA', 'MUNDO'], dtype='<U5')"
            ]
          },
          "metadata": {},
          "execution_count": 118
        }
      ]
    },
    {
      "cell_type": "markdown",
      "source": [
        "## Change the case to lowercase of elements of an array"
      ],
      "metadata": {
        "id": "vumspuwp9ZMw"
      }
    },
    {
      "cell_type": "code",
      "source": [
        "arr = np.array(['TESTE', 'OLA', 'MUNDO'])\n",
        "np.char.lower(arr)"
      ],
      "metadata": {
        "id": "eCfnIGuL9aGg",
        "colab": {
          "base_uri": "https://localhost:8080/"
        },
        "outputId": "74388f2e-5f29-4f93-bf69-005ef44dd232"
      },
      "execution_count": null,
      "outputs": [
        {
          "output_type": "execute_result",
          "data": {
            "text/plain": [
              "array(['teste', 'ola', 'mundo'], dtype='<U5')"
            ]
          },
          "metadata": {},
          "execution_count": 119
        }
      ]
    },
    {
      "cell_type": "markdown",
      "source": [
        "## Join String by a seperator"
      ],
      "metadata": {
        "id": "CYwjZldk9aUF"
      }
    },
    {
      "cell_type": "code",
      "source": [
        "arr = np.array(['Python', 'Numpy', 'Pandas'])\n",
        "sep = np.array(['-', '+', '*'])\n",
        "np.core.defchararray.join(sep, arr)"
      ],
      "metadata": {
        "id": "Nk0TMxnY9bR7",
        "colab": {
          "base_uri": "https://localhost:8080/"
        },
        "outputId": "f1528e6f-a1b4-4792-b31e-d7ae955cc8c3"
      },
      "execution_count": null,
      "outputs": [
        {
          "output_type": "execute_result",
          "data": {
            "text/plain": [
              "array(['P-y-t-h-o-n', 'N+u+m+p+y', 'P*a*n*d*a*s'], dtype='<U11')"
            ]
          },
          "metadata": {},
          "execution_count": 120
        }
      ]
    },
    {
      "cell_type": "markdown",
      "source": [
        "## Check if two same shaped string arrayss one by one"
      ],
      "metadata": {
        "id": "pPZkf7Ns9bd5"
      }
    },
    {
      "cell_type": "code",
      "source": [
        "arr = np.array('numpy')\n",
        "arr2 = np.array('numpy')\n",
        "np.char.equal(arr, arr2)"
      ],
      "metadata": {
        "id": "xV8JaK6Q9ch0",
        "colab": {
          "base_uri": "https://localhost:8080/"
        },
        "outputId": "da838c82-60e2-4b67-a50a-d71293ba5c4e"
      },
      "execution_count": null,
      "outputs": [
        {
          "output_type": "execute_result",
          "data": {
            "text/plain": [
              "array(True)"
            ]
          },
          "metadata": {},
          "execution_count": 121
        }
      ]
    },
    {
      "cell_type": "markdown",
      "source": [
        "## Count the number of substrings in an array"
      ],
      "metadata": {
        "id": "zD-lOQoU9c0h"
      }
    },
    {
      "cell_type": "code",
      "source": [
        "in_arr = np.array(['Sayantan', '  Sayan  ', 'Sayansubhra'])\n",
        "np.char.count(in_arr, sub ='an')"
      ],
      "metadata": {
        "id": "gpCuDtyo9eEy",
        "colab": {
          "base_uri": "https://localhost:8080/"
        },
        "outputId": "b58d61b0-ec24-43ef-b348-0341692a7495"
      },
      "execution_count": null,
      "outputs": [
        {
          "output_type": "execute_result",
          "data": {
            "text/plain": [
              "array([2, 1, 1])"
            ]
          },
          "metadata": {},
          "execution_count": 122
        }
      ]
    },
    {
      "cell_type": "markdown",
      "source": [
        "## Find the lowest index of the substring in an array"
      ],
      "metadata": {
        "id": "EL9C9xEy9eSQ"
      }
    },
    {
      "cell_type": "code",
      "source": [
        "a = np.array([\"I love Nunpy\"])\n",
        "np.char.find(a, \"love\", start=0, end=None)"
      ],
      "metadata": {
        "id": "SRx0HgQ49gG6",
        "colab": {
          "base_uri": "https://localhost:8080/"
        },
        "outputId": "d166ae57-4c70-49d8-cb54-b28eab0e3b9a"
      },
      "execution_count": null,
      "outputs": [
        {
          "output_type": "execute_result",
          "data": {
            "text/plain": [
              "array([2])"
            ]
          },
          "metadata": {},
          "execution_count": 123
        }
      ]
    },
    {
      "cell_type": "markdown",
      "source": [
        "## Get the boolean array when values end with a particular character"
      ],
      "metadata": {
        "id": "wjDV2RnV9gRw"
      }
    },
    {
      "cell_type": "code",
      "source": [
        "a = np.array(['geeks', 'for', 'geeks'])\n",
        "np.char.endswith(a, 'ks')"
      ],
      "metadata": {
        "id": "bk-ba5O09hMW",
        "colab": {
          "base_uri": "https://localhost:8080/"
        },
        "outputId": "66916090-d080-4eed-a75e-f367017116e3"
      },
      "execution_count": null,
      "outputs": [
        {
          "output_type": "execute_result",
          "data": {
            "text/plain": [
              "array([ True, False,  True])"
            ]
          },
          "metadata": {},
          "execution_count": 124
        }
      ]
    },
    {
      "cell_type": "markdown",
      "source": [
        "## Different ways to convert a Python dictionary to a NumPy array"
      ],
      "metadata": {
        "id": "vN7QCTdQ9ihl"
      }
    },
    {
      "cell_type": "code",
      "source": [
        "dictionary = {1: 'Geeks', 2: 'For', 3: 'Geeks'}\n",
        "result = dictionary.items()\n",
        "np.array(list(result))"
      ],
      "metadata": {
        "id": "zMPa_6uD9kQe",
        "colab": {
          "base_uri": "https://localhost:8080/"
        },
        "outputId": "4ec72c02-cba3-42f7-91bb-5cf51233779d"
      },
      "execution_count": null,
      "outputs": [
        {
          "output_type": "execute_result",
          "data": {
            "text/plain": [
              "array([['1', 'Geeks'],\n",
              "       ['2', 'For'],\n",
              "       ['3', 'Geeks']], dtype='<U21')"
            ]
          },
          "metadata": {},
          "execution_count": 125
        }
      ]
    },
    {
      "cell_type": "markdown",
      "source": [
        "## How to convert a list and tuple into NumPy arrays?"
      ],
      "metadata": {
        "id": "IaXWNbZH9kch"
      }
    },
    {
      "cell_type": "code",
      "source": [
        "list1 = [3, 4, 5, 6]\n",
        "array = np.asarray(list1)\n",
        "print(type(array))\n",
        "\n",
        "tuple1 = ([8, 4, 6], [1, 2, 3])\n",
        "array2 = np.asarray(tuple1)\n",
        "print(type(array2))"
      ],
      "metadata": {
        "id": "v7DTjCBu9lXz",
        "colab": {
          "base_uri": "https://localhost:8080/"
        },
        "outputId": "fbf43f8b-1ef2-4bd9-de6e-1ec8713967d9"
      },
      "execution_count": null,
      "outputs": [
        {
          "output_type": "stream",
          "name": "stdout",
          "text": [
            "<class 'numpy.ndarray'>\n",
            "<class 'numpy.ndarray'>\n"
          ]
        }
      ]
    },
    {
      "cell_type": "markdown",
      "source": [
        "## Ways to convert array of strings to array of floats"
      ],
      "metadata": {
        "id": "15LiwRug9li1"
      }
    },
    {
      "cell_type": "code",
      "source": [
        "x = np.array(['1.1', '2.2', '3.3'])\n",
        "x.astype(float)"
      ],
      "metadata": {
        "id": "aWAjTRYY9mU4",
        "colab": {
          "base_uri": "https://localhost:8080/"
        },
        "outputId": "3e2a6007-5fa2-43c8-d62a-1a1f7ebc87fb"
      },
      "execution_count": null,
      "outputs": [
        {
          "output_type": "execute_result",
          "data": {
            "text/plain": [
              "array([1.1, 2.2, 3.3])"
            ]
          },
          "metadata": {},
          "execution_count": 127
        }
      ]
    },
    {
      "cell_type": "markdown",
      "source": [
        "## Convert a NumPy array into a csv file"
      ],
      "metadata": {
        "id": "X51lyzSW9mhN"
      }
    },
    {
      "cell_type": "code",
      "source": [
        "arr = np.arange(1,11)\n",
        "arr.tofile('data.csv', sep = ',')"
      ],
      "metadata": {
        "id": "nIBu8Xeu9nUH"
      },
      "execution_count": null,
      "outputs": []
    },
    {
      "cell_type": "markdown",
      "source": [
        "## How to Convert an image to NumPy array and save it to CSV file using Python?"
      ],
      "metadata": {
        "id": "iUVr0YJ19njC"
      }
    },
    {
      "cell_type": "code",
      "source": [
        "imageMat = img.imread('22383808.jpg')\n",
        "print(\"Image shape:\", imageMat.shape)\n",
        "\n",
        "if(imageMat.shape[2] == 3):\n",
        "\n",
        "  imageMat_reshape = imageMat.reshape(imageMat.shape[0], -1)\n",
        "\n",
        "  print(\"Reshaping to 2D array:\", imageMat_reshape.shape)\n",
        "\n",
        "else:\n",
        "  imageMat_reshape = imageMat\n",
        "\t\n",
        "np.savetxt('rodrigo.csv', imageMat_reshape)\n",
        "\n",
        "loaded_2D_mat = np.loadtxt('rodrigo.csv')\n",
        "\n",
        "loaded_mat = loaded_2D_mat.reshape(loaded_2D_mat.shape[0], loaded_2D_mat.shape[1] // imageMat.shape[2], imageMat.shape[2])\n",
        "\n",
        "print(\"Image shape of loaded Image:\", loaded_mat.shape)\n",
        "\n",
        "if((imageMat == loaded_mat).all()):\n",
        "  print(\"\\n\\nYes\", \"The loaded matrice from CSV file is same as original image matrice\")\n"
      ],
      "metadata": {
        "id": "hSP8bDle9oa4",
        "colab": {
          "base_uri": "https://localhost:8080/"
        },
        "outputId": "bf9f75c6-467b-4fab-a25b-79160ddaf890"
      },
      "execution_count": null,
      "outputs": [
        {
          "output_type": "stream",
          "name": "stdout",
          "text": [
            "Image shape: (460, 460, 3)\n",
            "Reshaping to 2D array: (460, 1380)\n",
            "Image shape of loaded Image: (460, 460, 3)\n",
            "\n",
            "\n",
            "Yes The loaded matrice from CSV file is same as original image matrice\n"
          ]
        }
      ]
    },
    {
      "cell_type": "markdown",
      "source": [
        "## How to save a NumPy array to a text file?"
      ],
      "metadata": {
        "id": "_z6jmx7f9opI"
      }
    },
    {
      "cell_type": "code",
      "source": [
        "array = numpy.array([1, 2, 3, 4, 5])\n",
        "\n",
        "file = open(\"file.txt\", \"w+\")\n",
        " \n",
        "content = str(array)\n",
        "file.write(content)\n",
        "file.close()\n",
        "\n",
        "file = open(\"file.txt\", \"r\")\n",
        "content = file.read()\n",
        " \n",
        "print(\"\\nContent in file1.txt:\\n\", content)\n",
        "file.close()"
      ],
      "metadata": {
        "id": "CQxQh72-9peo",
        "colab": {
          "base_uri": "https://localhost:8080/"
        },
        "outputId": "bb46aa99-c765-41fa-9db1-353b2cb36038"
      },
      "execution_count": null,
      "outputs": [
        {
          "output_type": "stream",
          "name": "stdout",
          "text": [
            "\n",
            "Content in file1.txt:\n",
            " [1 2 3 4 5]\n"
          ]
        }
      ]
    },
    {
      "cell_type": "markdown",
      "source": [
        "## Load data from a text file"
      ],
      "metadata": {
        "id": "pnqSjQ_M9vm-"
      }
    },
    {
      "cell_type": "code",
      "source": [
        "file_data = np.loadtxt(\"file2.txt\")\n",
        "print(file_data)"
      ],
      "metadata": {
        "id": "1DQF10mX9wXM",
        "colab": {
          "base_uri": "https://localhost:8080/"
        },
        "outputId": "265133fc-0b68-486c-85c2-82b72f849c25"
      },
      "execution_count": null,
      "outputs": [
        {
          "output_type": "stream",
          "name": "stdout",
          "text": [
            "[[1. 2.]\n",
            " [3. 4.]]\n"
          ]
        }
      ]
    },
    {
      "cell_type": "markdown",
      "source": [
        "## Plot line graph from NumPy array"
      ],
      "metadata": {
        "id": "K4YjwPRv9wyZ"
      }
    },
    {
      "cell_type": "code",
      "source": [
        "x = np.arange(1, 11)\n",
        "y = x * x\n",
        " \n",
        "plt.title(\"Line graph\")\n",
        "plt.xlabel(\"X axis\")\n",
        "plt.ylabel(\"Y axis\")\n",
        "plt.plot(x, y, color =\"red\")\n",
        "plt.show()"
      ],
      "metadata": {
        "id": "LkAXSUa69xmt",
        "colab": {
          "base_uri": "https://localhost:8080/"
        },
        "outputId": "e93f77c1-b993-4046-f9cf-a2c8cebd398a"
      },
      "execution_count": null,
      "outputs": [
        {
          "output_type": "display_data",
          "data": {
            "text/plain": [
              "<Figure size 432x288 with 1 Axes>"
            ],
            "image/png": "[encoded data removed]"
          },
          "metadata": {
            "needs_background": "light"
          }
        }
      ]
    },
    {
      "cell_type": "markdown",
      "source": [
        "## Create Histogram using NumPy"
      ],
      "metadata": {
        "id": "xZwzcOIu9yyC"
      }
    },
    {
      "cell_type": "code",
      "source": [
        "a = np.random.randint(100, size =(50))\n",
        " \n",
        "fig = plt.figure(figsize =(10, 7))\n",
        " \n",
        "plt.hist(a, bins = [0, 10, 20, 30,\n",
        "                    40, 50, 60, 70,\n",
        "                    80, 90, 100])\n",
        " \n",
        "plt.title(\"Numpy Histogram\")\n",
        "\n",
        "plt.show()"
      ],
      "metadata": {
        "id": "exETy61y9zMu",
        "colab": {
          "base_uri": "https://localhost:8080/"
        },
        "outputId": "f264b4d9-3dc5-4895-b3ec-76f14c7c4d54"
      },
      "execution_count": null,
      "outputs": [
        {
          "output_type": "display_data",
          "data": {
            "text/plain": [
              "<Figure size 720x504 with 1 Axes>"
            ],
            "image/png": "[encoded data removed]"
          },
          "metadata": {
            "needs_background": "light"
          }
        }
      ]
    },
    {
      "cell_type": "code",
      "source": [
        ""
      ],
      "metadata": {
        "id": "meANvTjyEKtd"
      },
      "execution_count": null,
      "outputs": []
    }
  ]
}